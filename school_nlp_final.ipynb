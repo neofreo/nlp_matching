{
 "cells": [
  {
   "cell_type": "markdown",
   "metadata": {},
   "source": [
    "# GoProtect_2"
   ]
  },
  {
   "cell_type": "markdown",
   "metadata": {},
   "source": [
    "#### Цель работы\n",
    "\n",
    "* Создать модель машинного обучения для сопоставления названий спортивных школ, записанных в разном формате (в том числе и с ошибками) с эталоном.\n"
   ]
  },
  {
   "cell_type": "markdown",
   "metadata": {},
   "source": [
    "#### Ход работы\n",
    "* Загрузить и изучить данные\n",
    "* Создать обучающий датасет\n",
    "* Подготовить решение по мэтчингу произвольных вариантов написания названий и эталонных\n",
    "* Дообучить модель\n",
    "* Выполнить тестирование и сравнить результаты исходной модели и дообученной\n",
    "* Сделать описание решения, выводы и рекомендации"
   ]
  },
  {
   "cell_type": "markdown",
   "metadata": {},
   "source": [
    "### исходные данные\n",
    "* \"Примерное написание.csv\" - набор вариантов для тестирования\n",
    "* \"Школы.csv\" - эталонные названия школ и регионы\n"
   ]
  },
  {
   "cell_type": "code",
   "execution_count": 1,
   "metadata": {},
   "outputs": [
    {
     "name": "stderr",
     "output_type": "stream",
     "text": [
      "c:\\Users\\Freo\\Desktop\\kaggle\\protect3\\venv\\lib\\site-packages\\sentence_transformers\\cross_encoder\\CrossEncoder.py:11: TqdmExperimentalWarning: Using `tqdm.autonotebook.tqdm` in notebook mode. Use `tqdm.tqdm` instead to force console mode (e.g. in jupyter console)\n",
      "  from tqdm.autonotebook import tqdm, trange\n"
     ]
    },
    {
     "name": "stdout",
     "output_type": "stream",
     "text": [
      "WARNING:tensorflow:From c:\\Users\\Freo\\Desktop\\kaggle\\protect3\\venv\\lib\\site-packages\\tf_keras\\src\\losses.py:2976: The name tf.losses.sparse_softmax_cross_entropy is deprecated. Please use tf.compat.v1.losses.sparse_softmax_cross_entropy instead.\n",
      "\n"
     ]
    }
   ],
   "source": [
    "import pandas as pd\n",
    "import numpy as np\n",
    "import re\n",
    "\n",
    "\n",
    "from sklearn.linear_model import LogisticRegression\n",
    "from sklearn.tree import DecisionTreeClassifier\n",
    "from sklearn.ensemble import RandomForestClassifier\n",
    "from lightgbm import LGBMClassifier\n",
    "from catboost import CatBoostClassifier\n",
    "from sklearn.svm import LinearSVC\n",
    "\n",
    "from sklearn.model_selection import train_test_split, cross_val_score, GridSearchCV\n",
    "from sklearn.metrics import accuracy_score\n",
    "from sklearn.feature_extraction.text import TfidfVectorizer\n",
    "\n",
    "\n",
    "\n",
    "from sentence_transformers import SentenceTransformer, InputExample, losses, SentenceTransformerTrainer\n",
    "from sentence_transformers.util import semantic_search\n",
    "import spacy\n",
    "import nlpaug\n",
    "from nltk.corpus import stopwords\n",
    "import nlpaug.augmenter.char as nac\n",
    "\n",
    "from torch.utils.data import DataLoader, Dataset\n",
    "\n",
    "import tensorflow as tf\n",
    "import keras\n",
    "\n",
    "import warnings"
   ]
  },
  {
   "cell_type": "code",
   "execution_count": 2,
   "metadata": {},
   "outputs": [],
   "source": [
    "warnings.filterwarnings(\"ignore\") \n",
    "warnings.filterwarnings(\"ignore\", category=DeprecationWarning)"
   ]
  },
  {
   "cell_type": "code",
   "execution_count": 3,
   "metadata": {},
   "outputs": [],
   "source": [
    "nlp = spacy.load(\"ru_core_news_lg\")"
   ]
  },
  {
   "cell_type": "code",
   "execution_count": 4,
   "metadata": {},
   "outputs": [],
   "source": [
    "RSTATE = 12345"
   ]
  },
  {
   "cell_type": "code",
   "execution_count": 5,
   "metadata": {},
   "outputs": [],
   "source": [
    "df_for_test = pd.read_csv('C:\\\\Users\\\\Freo\\\\Desktop\\\\kaggle\\\\protect\\\\Примерное написание.csv')"
   ]
  },
  {
   "cell_type": "code",
   "execution_count": 6,
   "metadata": {},
   "outputs": [
    {
     "data": {
      "text/html": [
       "<div>\n",
       "<style scoped>\n",
       "    .dataframe tbody tr th:only-of-type {\n",
       "        vertical-align: middle;\n",
       "    }\n",
       "\n",
       "    .dataframe tbody tr th {\n",
       "        vertical-align: top;\n",
       "    }\n",
       "\n",
       "    .dataframe thead th {\n",
       "        text-align: right;\n",
       "    }\n",
       "</style>\n",
       "<table border=\"1\" class=\"dataframe\">\n",
       "  <thead>\n",
       "    <tr style=\"text-align: right;\">\n",
       "      <th></th>\n",
       "      <th>school_id</th>\n",
       "      <th>name</th>\n",
       "    </tr>\n",
       "  </thead>\n",
       "  <tbody>\n",
       "    <tr>\n",
       "      <th>0</th>\n",
       "      <td>1836</td>\n",
       "      <td>ООО \"Триумф\"</td>\n",
       "    </tr>\n",
       "    <tr>\n",
       "      <th>1</th>\n",
       "      <td>1836</td>\n",
       "      <td>Москва, СК \"Триумф\"</td>\n",
       "    </tr>\n",
       "    <tr>\n",
       "      <th>2</th>\n",
       "      <td>610</td>\n",
       "      <td>СШОР \"Надежда Губернии</td>\n",
       "    </tr>\n",
       "    <tr>\n",
       "      <th>3</th>\n",
       "      <td>610</td>\n",
       "      <td>Саратовская область, ГБУСО \"СШОР \"Надежда Губе...</td>\n",
       "    </tr>\n",
       "    <tr>\n",
       "      <th>4</th>\n",
       "      <td>609</td>\n",
       "      <td>\"СШ \"Гвоздика\"</td>\n",
       "    </tr>\n",
       "  </tbody>\n",
       "</table>\n",
       "</div>"
      ],
      "text/plain": [
       "   school_id                                               name\n",
       "0       1836                                       ООО \"Триумф\"\n",
       "1       1836                                Москва, СК \"Триумф\"\n",
       "2        610                             СШОР \"Надежда Губернии\n",
       "3        610  Саратовская область, ГБУСО \"СШОР \"Надежда Губе...\n",
       "4        609                                     \"СШ \"Гвоздика\""
      ]
     },
     "execution_count": 6,
     "metadata": {},
     "output_type": "execute_result"
    }
   ],
   "source": [
    "df_for_test.head()"
   ]
  },
  {
   "cell_type": "code",
   "execution_count": 7,
   "metadata": {},
   "outputs": [],
   "source": [
    "df = pd.read_csv('C:\\\\Users\\\\Freo\\\\Desktop\\\\kaggle\\\\protect\\\\Школы.csv')"
   ]
  },
  {
   "cell_type": "code",
   "execution_count": 8,
   "metadata": {},
   "outputs": [
    {
     "data": {
      "text/html": [
       "<div>\n",
       "<style scoped>\n",
       "    .dataframe tbody tr th:only-of-type {\n",
       "        vertical-align: middle;\n",
       "    }\n",
       "\n",
       "    .dataframe tbody tr th {\n",
       "        vertical-align: top;\n",
       "    }\n",
       "\n",
       "    .dataframe thead th {\n",
       "        text-align: right;\n",
       "    }\n",
       "</style>\n",
       "<table border=\"1\" class=\"dataframe\">\n",
       "  <thead>\n",
       "    <tr style=\"text-align: right;\">\n",
       "      <th></th>\n",
       "      <th>school_id</th>\n",
       "      <th>name</th>\n",
       "      <th>region</th>\n",
       "    </tr>\n",
       "  </thead>\n",
       "  <tbody>\n",
       "    <tr>\n",
       "      <th>0</th>\n",
       "      <td>1</td>\n",
       "      <td>Авангард</td>\n",
       "      <td>Московская область</td>\n",
       "    </tr>\n",
       "    <tr>\n",
       "      <th>1</th>\n",
       "      <td>2</td>\n",
       "      <td>Авангард</td>\n",
       "      <td>Ямало-Ненецкий АО</td>\n",
       "    </tr>\n",
       "    <tr>\n",
       "      <th>2</th>\n",
       "      <td>3</td>\n",
       "      <td>Авиатор</td>\n",
       "      <td>Республика Татарстан</td>\n",
       "    </tr>\n",
       "    <tr>\n",
       "      <th>3</th>\n",
       "      <td>4</td>\n",
       "      <td>Аврора</td>\n",
       "      <td>Санкт-Петербург</td>\n",
       "    </tr>\n",
       "    <tr>\n",
       "      <th>4</th>\n",
       "      <td>5</td>\n",
       "      <td>Ice Dream / Айс Дрим</td>\n",
       "      <td>Санкт-Петербург</td>\n",
       "    </tr>\n",
       "  </tbody>\n",
       "</table>\n",
       "</div>"
      ],
      "text/plain": [
       "   school_id                  name                region\n",
       "0          1              Авангард    Московская область\n",
       "1          2              Авангард     Ямало-Ненецкий АО\n",
       "2          3               Авиатор  Республика Татарстан\n",
       "3          4                Аврора       Санкт-Петербург\n",
       "4          5  Ice Dream / Айс Дрим       Санкт-Петербург"
      ]
     },
     "execution_count": 8,
     "metadata": {},
     "output_type": "execute_result"
    }
   ],
   "source": [
    "df.head()"
   ]
  },
  {
   "cell_type": "code",
   "execution_count": 9,
   "metadata": {},
   "outputs": [
    {
     "data": {
      "text/html": [
       "<div>\n",
       "<style scoped>\n",
       "    .dataframe tbody tr th:only-of-type {\n",
       "        vertical-align: middle;\n",
       "    }\n",
       "\n",
       "    .dataframe tbody tr th {\n",
       "        vertical-align: top;\n",
       "    }\n",
       "\n",
       "    .dataframe thead th {\n",
       "        text-align: right;\n",
       "    }\n",
       "</style>\n",
       "<table border=\"1\" class=\"dataframe\">\n",
       "  <thead>\n",
       "    <tr style=\"text-align: right;\">\n",
       "      <th></th>\n",
       "      <th>school_id</th>\n",
       "      <th>name</th>\n",
       "      <th>region</th>\n",
       "    </tr>\n",
       "  </thead>\n",
       "  <tbody>\n",
       "    <tr>\n",
       "      <th>0</th>\n",
       "      <td>1</td>\n",
       "      <td>Авангард</td>\n",
       "      <td>Московская область</td>\n",
       "    </tr>\n",
       "    <tr>\n",
       "      <th>1</th>\n",
       "      <td>2</td>\n",
       "      <td>Авангард</td>\n",
       "      <td>Ямало-Ненецкий АО</td>\n",
       "    </tr>\n",
       "    <tr>\n",
       "      <th>2</th>\n",
       "      <td>3</td>\n",
       "      <td>Авиатор</td>\n",
       "      <td>Республика Татарстан</td>\n",
       "    </tr>\n",
       "    <tr>\n",
       "      <th>3</th>\n",
       "      <td>4</td>\n",
       "      <td>Аврора</td>\n",
       "      <td>Санкт-Петербург</td>\n",
       "    </tr>\n",
       "    <tr>\n",
       "      <th>4</th>\n",
       "      <td>5</td>\n",
       "      <td>Ice Dream / Айс Дрим</td>\n",
       "      <td>Санкт-Петербург</td>\n",
       "    </tr>\n",
       "    <tr>\n",
       "      <th>...</th>\n",
       "      <td>...</td>\n",
       "      <td>...</td>\n",
       "      <td>...</td>\n",
       "    </tr>\n",
       "    <tr>\n",
       "      <th>301</th>\n",
       "      <td>305</td>\n",
       "      <td>Прогресс</td>\n",
       "      <td>Алтайский край</td>\n",
       "    </tr>\n",
       "    <tr>\n",
       "      <th>302</th>\n",
       "      <td>609</td>\n",
       "      <td>\"СШ \"Гвоздика\"</td>\n",
       "      <td>Удмуртская республика</td>\n",
       "    </tr>\n",
       "    <tr>\n",
       "      <th>303</th>\n",
       "      <td>610</td>\n",
       "      <td>СШОР \"Надежда Губернии</td>\n",
       "      <td>Саратовская область</td>\n",
       "    </tr>\n",
       "    <tr>\n",
       "      <th>304</th>\n",
       "      <td>611</td>\n",
       "      <td>КФК «Айсберг»</td>\n",
       "      <td>Пермский край</td>\n",
       "    </tr>\n",
       "    <tr>\n",
       "      <th>305</th>\n",
       "      <td>1836</td>\n",
       "      <td>ООО \"Триумф\"</td>\n",
       "      <td>Москва</td>\n",
       "    </tr>\n",
       "  </tbody>\n",
       "</table>\n",
       "<p>306 rows × 3 columns</p>\n",
       "</div>"
      ],
      "text/plain": [
       "     school_id                    name                 region\n",
       "0            1                Авангард     Московская область\n",
       "1            2                Авангард      Ямало-Ненецкий АО\n",
       "2            3                 Авиатор   Республика Татарстан\n",
       "3            4                  Аврора        Санкт-Петербург\n",
       "4            5    Ice Dream / Айс Дрим        Санкт-Петербург\n",
       "..         ...                     ...                    ...\n",
       "301        305                Прогресс         Алтайский край\n",
       "302        609          \"СШ \"Гвоздика\"  Удмуртская республика\n",
       "303        610  СШОР \"Надежда Губернии    Саратовская область\n",
       "304        611           КФК «Айсберг»          Пермский край\n",
       "305       1836            ООО \"Триумф\"                 Москва\n",
       "\n",
       "[306 rows x 3 columns]"
      ]
     },
     "execution_count": 9,
     "metadata": {},
     "output_type": "execute_result"
    }
   ],
   "source": [
    "df"
   ]
  },
  {
   "cell_type": "code",
   "execution_count": 10,
   "metadata": {},
   "outputs": [],
   "source": [
    "df['name'] = df['region'] + ' ' + df['name']"
   ]
  },
  {
   "cell_type": "code",
   "execution_count": 11,
   "metadata": {},
   "outputs": [],
   "source": [
    "df = df.drop(columns='region')"
   ]
  },
  {
   "cell_type": "code",
   "execution_count": 12,
   "metadata": {},
   "outputs": [],
   "source": [
    "df['name_orig'] = df['name'] "
   ]
  },
  {
   "cell_type": "code",
   "execution_count": 13,
   "metadata": {},
   "outputs": [
    {
     "data": {
      "text/html": [
       "<div>\n",
       "<style scoped>\n",
       "    .dataframe tbody tr th:only-of-type {\n",
       "        vertical-align: middle;\n",
       "    }\n",
       "\n",
       "    .dataframe tbody tr th {\n",
       "        vertical-align: top;\n",
       "    }\n",
       "\n",
       "    .dataframe thead th {\n",
       "        text-align: right;\n",
       "    }\n",
       "</style>\n",
       "<table border=\"1\" class=\"dataframe\">\n",
       "  <thead>\n",
       "    <tr style=\"text-align: right;\">\n",
       "      <th></th>\n",
       "      <th>school_id</th>\n",
       "      <th>name</th>\n",
       "      <th>name_orig</th>\n",
       "    </tr>\n",
       "  </thead>\n",
       "  <tbody>\n",
       "    <tr>\n",
       "      <th>0</th>\n",
       "      <td>1</td>\n",
       "      <td>Московская область Авангард</td>\n",
       "      <td>Московская область Авангард</td>\n",
       "    </tr>\n",
       "    <tr>\n",
       "      <th>1</th>\n",
       "      <td>2</td>\n",
       "      <td>Ямало-Ненецкий АО Авангард</td>\n",
       "      <td>Ямало-Ненецкий АО Авангард</td>\n",
       "    </tr>\n",
       "    <tr>\n",
       "      <th>2</th>\n",
       "      <td>3</td>\n",
       "      <td>Республика Татарстан Авиатор</td>\n",
       "      <td>Республика Татарстан Авиатор</td>\n",
       "    </tr>\n",
       "    <tr>\n",
       "      <th>3</th>\n",
       "      <td>4</td>\n",
       "      <td>Санкт-Петербург Аврора</td>\n",
       "      <td>Санкт-Петербург Аврора</td>\n",
       "    </tr>\n",
       "    <tr>\n",
       "      <th>4</th>\n",
       "      <td>5</td>\n",
       "      <td>Санкт-Петербург Ice Dream / Айс Дрим</td>\n",
       "      <td>Санкт-Петербург Ice Dream / Айс Дрим</td>\n",
       "    </tr>\n",
       "    <tr>\n",
       "      <th>...</th>\n",
       "      <td>...</td>\n",
       "      <td>...</td>\n",
       "      <td>...</td>\n",
       "    </tr>\n",
       "    <tr>\n",
       "      <th>301</th>\n",
       "      <td>305</td>\n",
       "      <td>Алтайский край Прогресс</td>\n",
       "      <td>Алтайский край Прогресс</td>\n",
       "    </tr>\n",
       "    <tr>\n",
       "      <th>302</th>\n",
       "      <td>609</td>\n",
       "      <td>Удмуртская республика \"СШ \"Гвоздика\"</td>\n",
       "      <td>Удмуртская республика \"СШ \"Гвоздика\"</td>\n",
       "    </tr>\n",
       "    <tr>\n",
       "      <th>303</th>\n",
       "      <td>610</td>\n",
       "      <td>Саратовская область СШОР \"Надежда Губернии</td>\n",
       "      <td>Саратовская область СШОР \"Надежда Губернии</td>\n",
       "    </tr>\n",
       "    <tr>\n",
       "      <th>304</th>\n",
       "      <td>611</td>\n",
       "      <td>Пермский край КФК «Айсберг»</td>\n",
       "      <td>Пермский край КФК «Айсберг»</td>\n",
       "    </tr>\n",
       "    <tr>\n",
       "      <th>305</th>\n",
       "      <td>1836</td>\n",
       "      <td>Москва ООО \"Триумф\"</td>\n",
       "      <td>Москва ООО \"Триумф\"</td>\n",
       "    </tr>\n",
       "  </tbody>\n",
       "</table>\n",
       "<p>306 rows × 3 columns</p>\n",
       "</div>"
      ],
      "text/plain": [
       "     school_id                                        name  \\\n",
       "0            1                 Московская область Авангард   \n",
       "1            2                  Ямало-Ненецкий АО Авангард   \n",
       "2            3                Республика Татарстан Авиатор   \n",
       "3            4                      Санкт-Петербург Аврора   \n",
       "4            5        Санкт-Петербург Ice Dream / Айс Дрим   \n",
       "..         ...                                         ...   \n",
       "301        305                     Алтайский край Прогресс   \n",
       "302        609        Удмуртская республика \"СШ \"Гвоздика\"   \n",
       "303        610  Саратовская область СШОР \"Надежда Губернии   \n",
       "304        611                 Пермский край КФК «Айсберг»   \n",
       "305       1836                         Москва ООО \"Триумф\"   \n",
       "\n",
       "                                      name_orig  \n",
       "0                   Московская область Авангард  \n",
       "1                    Ямало-Ненецкий АО Авангард  \n",
       "2                  Республика Татарстан Авиатор  \n",
       "3                        Санкт-Петербург Аврора  \n",
       "4          Санкт-Петербург Ice Dream / Айс Дрим  \n",
       "..                                          ...  \n",
       "301                     Алтайский край Прогресс  \n",
       "302        Удмуртская республика \"СШ \"Гвоздика\"  \n",
       "303  Саратовская область СШОР \"Надежда Губернии  \n",
       "304                 Пермский край КФК «Айсберг»  \n",
       "305                         Москва ООО \"Триумф\"  \n",
       "\n",
       "[306 rows x 3 columns]"
      ]
     },
     "execution_count": 13,
     "metadata": {},
     "output_type": "execute_result"
    }
   ],
   "source": [
    "df"
   ]
  },
  {
   "cell_type": "code",
   "execution_count": 14,
   "metadata": {},
   "outputs": [],
   "source": [
    "def lemmatize(text):\n",
    "    doc = nlp(text)\n",
    "    return \" \".join([token.lemma_ for token in doc])"
   ]
  },
  {
   "cell_type": "markdown",
   "metadata": {},
   "source": [
    "* создадим обучающие признаки из названий школ\n",
    "* создадим целевые признаки из уникальных id школ"
   ]
  },
  {
   "cell_type": "code",
   "execution_count": 15,
   "metadata": {},
   "outputs": [],
   "source": [
    "x_train = df['name']\n",
    "y_train_final = df['school_id']"
   ]
  },
  {
   "cell_type": "code",
   "execution_count": 16,
   "metadata": {},
   "outputs": [
    {
     "data": {
      "text/plain": [
       "0             Московская область Авангард\n",
       "1              Ямало-Ненецкий АО Авангард\n",
       "2            Республика Татарстан Авиатор\n",
       "3                  Санкт-Петербург Аврора\n",
       "4    Санкт-Петербург Ice Dream / Айс Дрим\n",
       "Name: name, dtype: object"
      ]
     },
     "execution_count": 16,
     "metadata": {},
     "output_type": "execute_result"
    }
   ],
   "source": [
    "x_train.head()"
   ]
  },
  {
   "cell_type": "code",
   "execution_count": 17,
   "metadata": {},
   "outputs": [
    {
     "data": {
      "text/html": [
       "<div>\n",
       "<style scoped>\n",
       "    .dataframe tbody tr th:only-of-type {\n",
       "        vertical-align: middle;\n",
       "    }\n",
       "\n",
       "    .dataframe tbody tr th {\n",
       "        vertical-align: top;\n",
       "    }\n",
       "\n",
       "    .dataframe thead th {\n",
       "        text-align: right;\n",
       "    }\n",
       "</style>\n",
       "<table border=\"1\" class=\"dataframe\">\n",
       "  <thead>\n",
       "    <tr style=\"text-align: right;\">\n",
       "      <th></th>\n",
       "      <th>school_id</th>\n",
       "      <th>name</th>\n",
       "    </tr>\n",
       "  </thead>\n",
       "  <tbody>\n",
       "    <tr>\n",
       "      <th>0</th>\n",
       "      <td>1836</td>\n",
       "      <td>ООО \"Триумф\"</td>\n",
       "    </tr>\n",
       "    <tr>\n",
       "      <th>1</th>\n",
       "      <td>1836</td>\n",
       "      <td>Москва, СК \"Триумф\"</td>\n",
       "    </tr>\n",
       "    <tr>\n",
       "      <th>2</th>\n",
       "      <td>610</td>\n",
       "      <td>СШОР \"Надежда Губернии</td>\n",
       "    </tr>\n",
       "    <tr>\n",
       "      <th>3</th>\n",
       "      <td>610</td>\n",
       "      <td>Саратовская область, ГБУСО \"СШОР \"Надежда Губе...</td>\n",
       "    </tr>\n",
       "    <tr>\n",
       "      <th>4</th>\n",
       "      <td>609</td>\n",
       "      <td>\"СШ \"Гвоздика\"</td>\n",
       "    </tr>\n",
       "  </tbody>\n",
       "</table>\n",
       "</div>"
      ],
      "text/plain": [
       "   school_id                                               name\n",
       "0       1836                                       ООО \"Триумф\"\n",
       "1       1836                                Москва, СК \"Триумф\"\n",
       "2        610                             СШОР \"Надежда Губернии\n",
       "3        610  Саратовская область, ГБУСО \"СШОР \"Надежда Губе...\n",
       "4        609                                     \"СШ \"Гвоздика\""
      ]
     },
     "execution_count": 17,
     "metadata": {},
     "output_type": "execute_result"
    }
   ],
   "source": [
    "df_for_test.head()"
   ]
  },
  {
   "cell_type": "markdown",
   "metadata": {},
   "source": [
    "Функция для очистки текста от лишних символов и пунктуации"
   ]
  },
  {
   "cell_type": "code",
   "execution_count": 18,
   "metadata": {},
   "outputs": [],
   "source": [
    "def clear_text(text):\n",
    "    text = re.sub(r'[^A-Za-zА-Яа-яЁё1-90]', ' ', text)\n",
    "    text = re.sub(r',\\\"', ' ', text)\n",
    "    text = text.split()\n",
    "    res = ' '.join(text)\n",
    "    # return res.lower()\n",
    "    return res"
   ]
  },
  {
   "cell_type": "markdown",
   "metadata": {},
   "source": [
    "обработаем признаки из итоговой проверяющей выборки под общий стандарт очистки текста"
   ]
  },
  {
   "cell_type": "code",
   "execution_count": 19,
   "metadata": {},
   "outputs": [],
   "source": [
    "x_test_final = df_for_test['name'].apply(clear_text)\n",
    "y_test_final = df_for_test['school_id']"
   ]
  },
  {
   "cell_type": "markdown",
   "metadata": {},
   "source": [
    "создадим корпуса текста для векторизации с помощью tf idf"
   ]
  },
  {
   "cell_type": "code",
   "execution_count": 20,
   "metadata": {},
   "outputs": [],
   "source": [
    "corpus_x_train = x_train.values\n",
    "corpus_x_test_final = x_test_final.values"
   ]
  },
  {
   "cell_type": "code",
   "execution_count": 21,
   "metadata": {},
   "outputs": [],
   "source": [
    "count_tf_idf = TfidfVectorizer(ngram_range=(1,1))"
   ]
  },
  {
   "cell_type": "markdown",
   "metadata": {},
   "source": [
    "векторизируем"
   ]
  },
  {
   "cell_type": "code",
   "execution_count": 22,
   "metadata": {},
   "outputs": [],
   "source": [
    "tf_idf_train = count_tf_idf.fit_transform(corpus_x_train)\n",
    "tf_idf_test_final = count_tf_idf.transform(corpus_x_test_final)"
   ]
  },
  {
   "cell_type": "markdown",
   "metadata": {},
   "source": [
    "рассмотрим бейслайн модель, обучим ее на имеющихся данных для понимания точки отсчета и сложности задачи"
   ]
  },
  {
   "cell_type": "code",
   "execution_count": 23,
   "metadata": {},
   "outputs": [
    {
     "name": "stdout",
     "output_type": "stream",
     "text": [
      "acc 0.841340782122905\n"
     ]
    }
   ],
   "source": [
    "model = LogisticRegression(solver='liblinear', random_state=RSTATE, class_weight = 'balanced')\n",
    "model.fit(tf_idf_train,y_train_final)\n",
    "pred = model.predict(tf_idf_test_final)\n",
    "\n",
    "print('acc',accuracy_score(pred,y_test_final))"
   ]
  },
  {
   "cell_type": "markdown",
   "metadata": {},
   "source": [
    "для такой небольшой выборки бейслайн модель показала отличный результат, однако:\n",
    "* выборка исчезающе мала, при появлении новых данных (в том числе ошибок и опечаток) ее качество прогнозов может упасть очень сильно\n"
   ]
  },
  {
   "cell_type": "markdown",
   "metadata": {},
   "source": [
    "### расширение тренировочной выборки. Обычные МЛ модели."
   ]
  },
  {
   "cell_type": "markdown",
   "metadata": {},
   "source": [
    "С помощью библиотеки nlpaug создадим новые записи, моделирующие разные ошибки и опечатки при заполнении:\n",
    "* замена случайной буквы в тексте на случайную соседнюю на клавиатуре\n",
    "* удаление случайной буквы в тексте\n",
    "* замена двух находящихся рядом букв\n",
    "\n",
    "подобный подход позволит создать очень реалистичные записи на основе имеющихся данных"
   ]
  },
  {
   "cell_type": "markdown",
   "metadata": {},
   "source": [
    "В библиотеке нет готовой реализации для работы с русским языком, однако есть функционал для персонализации.\n",
    "С учетом необходимых для проекта задач можно немного срезать угол, и вместо заполнения полного словаря символов, достаточно выбрать в аргументах украинский язык, и заменить 2 отличающиеся буквы в раскладке клавиатуры."
   ]
  },
  {
   "cell_type": "markdown",
   "metadata": {},
   "source": [
    "Функция замены для двух отличающихся букв"
   ]
  },
  {
   "cell_type": "code",
   "execution_count": 24,
   "metadata": {},
   "outputs": [],
   "source": [
    "def to_rus(text):\n",
    "    text = re.sub(r'[iIІі]', 'ы', text)\n",
    "    text = re.sub(r'[Її]', 'ъ', text)\n",
    "    return text"
   ]
  },
  {
   "cell_type": "markdown",
   "metadata": {},
   "source": [
    "создадим разные варианты настроек для нескольких типов ошибок. В завимости от особенностей реального, рабочего датасета можно будет изменять параметры, подбирая те, с которыми моделированный датасет будет наиболее точно отражать реальную картину"
   ]
  },
  {
   "cell_type": "code",
   "execution_count": 25,
   "metadata": {},
   "outputs": [],
   "source": [
    "aug2 = nac.KeyboardAug(lang='uk',aug_char_min=1, aug_char_max=1, aug_char_p=0.1, aug_word_p=0.1)\n",
    "aug3 = nac.KeyboardAug(lang='uk',aug_char_min=1, aug_char_max=2, aug_char_p=0.2, aug_word_p=0.1)\n",
    "aug4 = nac.KeyboardAug(lang='uk',aug_char_min=1, aug_char_max=3, aug_char_p=0.3, aug_word_p=0.1)\n",
    "aug5 = nac.RandomCharAug(action=\"swap\", aug_char_min=1, aug_char_max=1, aug_char_p=0.1, aug_word_p=0.1)\n",
    "aug6 = nac.RandomCharAug(action=\"swap\", aug_char_min=2, aug_char_max=2, aug_char_p=0.2, aug_word_p=0.2)\n",
    "aug7 = nac.RandomCharAug(action=\"delete\", aug_char_min=1, aug_char_max=1, aug_char_p=0.1, aug_word_p=0.1)\n",
    "aug8 = nac.RandomCharAug(action=\"delete\", aug_char_min=2, aug_char_max=2, aug_char_p=0.2, aug_word_p=0.2)"
   ]
  },
  {
   "cell_type": "markdown",
   "metadata": {},
   "source": [
    "создадим шаблон"
   ]
  },
  {
   "cell_type": "code",
   "execution_count": 26,
   "metadata": {},
   "outputs": [],
   "source": [
    "df2 = df[['name','name_orig','school_id']]\n",
    "df3 = df[['name','name_orig','school_id']]\n",
    "df4 = df[['name','name_orig','school_id']]\n",
    "df5 = df[['name','name_orig','school_id']]\n",
    "df6 = df[['name','name_orig','school_id']]\n",
    "df7 = df[['name','name_orig','school_id']]\n",
    "df8 = df[['name','name_orig','school_id']]"
   ]
  },
  {
   "cell_type": "markdown",
   "metadata": {},
   "source": [
    "создадим аугментированные записи на основе реальных"
   ]
  },
  {
   "cell_type": "code",
   "execution_count": 27,
   "metadata": {},
   "outputs": [],
   "source": [
    "df2['name'] = df['name'].apply(lambda x: aug2.augment(x)[0]).apply(to_rus)\n",
    "df3['name'] = df['name'].apply(lambda x: aug3.augment(x)[0]).apply(to_rus)\n",
    "df4['name'] = df['name'].apply(lambda x: aug4.augment(x)[0]).apply(to_rus)\n",
    "df5['name'] = df['name'].apply(lambda x: aug5.augment(x)[0]).apply(to_rus)\n",
    "df6['name'] = df['name'].apply(lambda x: aug6.augment(x)[0]).apply(to_rus)\n",
    "df7['name'] = df['name'].apply(lambda x: aug7.augment(x)[0]).apply(to_rus)\n",
    "df8['name'] = df['name'].apply(lambda x: aug8.augment(x)[0]).apply(to_rus)"
   ]
  },
  {
   "cell_type": "markdown",
   "metadata": {},
   "source": [
    "выберем необходимые кусочки для собирания датасета"
   ]
  },
  {
   "cell_type": "code",
   "execution_count": 28,
   "metadata": {},
   "outputs": [],
   "source": [
    "df_big = pd.concat([df, df2, df5, df7], ignore_index=True)\n",
    "# df_big = pd.concat([df, df2, df3, df5, df7], ignore_index=True)\n",
    "# df_big = pd.concat([df, df2, df3, df4, df5, df6, df7, df8], ignore_index=True)"
   ]
  },
  {
   "cell_type": "markdown",
   "metadata": {},
   "source": [
    "применим функцию очистки к получившемуся датасету, для удаления ненужных знаков препринания и стандартизации данных"
   ]
  },
  {
   "cell_type": "code",
   "execution_count": 29,
   "metadata": {},
   "outputs": [],
   "source": [
    "df_big['name'] = df_big['name'].apply(clear_text)\n"
   ]
  },
  {
   "cell_type": "code",
   "execution_count": 30,
   "metadata": {},
   "outputs": [
    {
     "data": {
      "text/html": [
       "<div>\n",
       "<style scoped>\n",
       "    .dataframe tbody tr th:only-of-type {\n",
       "        vertical-align: middle;\n",
       "    }\n",
       "\n",
       "    .dataframe tbody tr th {\n",
       "        vertical-align: top;\n",
       "    }\n",
       "\n",
       "    .dataframe thead th {\n",
       "        text-align: right;\n",
       "    }\n",
       "</style>\n",
       "<table border=\"1\" class=\"dataframe\">\n",
       "  <thead>\n",
       "    <tr style=\"text-align: right;\">\n",
       "      <th></th>\n",
       "      <th>school_id</th>\n",
       "      <th>name</th>\n",
       "      <th>name_orig</th>\n",
       "    </tr>\n",
       "  </thead>\n",
       "  <tbody>\n",
       "    <tr>\n",
       "      <th>0</th>\n",
       "      <td>1</td>\n",
       "      <td>Московская область Авангард</td>\n",
       "      <td>Московская область Авангард</td>\n",
       "    </tr>\n",
       "    <tr>\n",
       "      <th>1</th>\n",
       "      <td>2</td>\n",
       "      <td>Ямало Ненецкий АО Авангард</td>\n",
       "      <td>Ямало-Ненецкий АО Авангард</td>\n",
       "    </tr>\n",
       "    <tr>\n",
       "      <th>2</th>\n",
       "      <td>3</td>\n",
       "      <td>Республика Татарстан Авиатор</td>\n",
       "      <td>Республика Татарстан Авиатор</td>\n",
       "    </tr>\n",
       "    <tr>\n",
       "      <th>3</th>\n",
       "      <td>4</td>\n",
       "      <td>Санкт Петербург Аврора</td>\n",
       "      <td>Санкт-Петербург Аврора</td>\n",
       "    </tr>\n",
       "    <tr>\n",
       "      <th>4</th>\n",
       "      <td>5</td>\n",
       "      <td>Санкт Петербург Ice Dream Айс Дрим</td>\n",
       "      <td>Санкт-Петербург Ice Dream / Айс Дрим</td>\n",
       "    </tr>\n",
       "  </tbody>\n",
       "</table>\n",
       "</div>"
      ],
      "text/plain": [
       "   school_id                                name  \\\n",
       "0          1         Московская область Авангард   \n",
       "1          2          Ямало Ненецкий АО Авангард   \n",
       "2          3        Республика Татарстан Авиатор   \n",
       "3          4              Санкт Петербург Аврора   \n",
       "4          5  Санкт Петербург Ice Dream Айс Дрим   \n",
       "\n",
       "                              name_orig  \n",
       "0           Московская область Авангард  \n",
       "1            Ямало-Ненецкий АО Авангард  \n",
       "2          Республика Татарстан Авиатор  \n",
       "3                Санкт-Петербург Аврора  \n",
       "4  Санкт-Петербург Ice Dream / Айс Дрим  "
      ]
     },
     "execution_count": 30,
     "metadata": {},
     "output_type": "execute_result"
    }
   ],
   "source": [
    "df_big.head()"
   ]
  },
  {
   "cell_type": "markdown",
   "metadata": {},
   "source": [
    "выделим целевой и обучающие признаки из нового смоделированного датасета"
   ]
  },
  {
   "cell_type": "code",
   "execution_count": 31,
   "metadata": {},
   "outputs": [],
   "source": [
    "x = df_big['name']\n",
    "y = df_big['school_id']"
   ]
  },
  {
   "cell_type": "markdown",
   "metadata": {},
   "source": [
    "разделим на выборки"
   ]
  },
  {
   "cell_type": "code",
   "execution_count": 32,
   "metadata": {},
   "outputs": [],
   "source": [
    "x_train, x_test, y_train, y_test = train_test_split(x, y, test_size=0.2, random_state=RSTATE)"
   ]
  },
  {
   "cell_type": "code",
   "execution_count": 33,
   "metadata": {},
   "outputs": [
    {
     "data": {
      "text/plain": [
       "0                                           ООО Триумф\n",
       "1                                     Москва СК Триумф\n",
       "2                                СШОР Надежда Губернии\n",
       "3      Саратовская область ГБУСО СШОР Надежда Губернии\n",
       "4                                          СШ Гвоздика\n",
       "                            ...                       \n",
       "890              Республика Татарстан СШОР ФСО Авиатор\n",
       "891              СШОР ФСО Авиатор Республика Татарстан\n",
       "892       Республика Татарстан МБУ ДО СШОР ФСО Авиатор\n",
       "893                                   ЯНАО СШ Авангард\n",
       "894                     Московская область СШ Авангард\n",
       "Name: name, Length: 895, dtype: object"
      ]
     },
     "execution_count": 33,
     "metadata": {},
     "output_type": "execute_result"
    }
   ],
   "source": [
    "x_test_final"
   ]
  },
  {
   "cell_type": "markdown",
   "metadata": {},
   "source": [
    "создание корпусов текста и векторизация"
   ]
  },
  {
   "cell_type": "code",
   "execution_count": 34,
   "metadata": {},
   "outputs": [],
   "source": [
    "corpus_x_train = x_train.values\n",
    "corpus_x_test = x_test.values\n",
    "corpus_x_test_final = x_test_final.values"
   ]
  },
  {
   "cell_type": "code",
   "execution_count": 35,
   "metadata": {},
   "outputs": [],
   "source": [
    "count_tf_idf = TfidfVectorizer(ngram_range=(1,1))"
   ]
  },
  {
   "cell_type": "code",
   "execution_count": 36,
   "metadata": {},
   "outputs": [],
   "source": [
    "tf_idf_train = count_tf_idf.fit_transform(corpus_x_train)\n",
    "tf_idf_test = count_tf_idf.transform(corpus_x_test)\n",
    "tf_idf_test_final = count_tf_idf.transform(corpus_x_test_final)\n"
   ]
  },
  {
   "cell_type": "markdown",
   "metadata": {},
   "source": [
    "## Модели"
   ]
  },
  {
   "cell_type": "markdown",
   "metadata": {},
   "source": [
    "посмотрим как покажут себя модели на смоделированном датасете, выберем лучшую модель и проверим ее:\n",
    "* на тестовых данных\n",
    "* на итоговой проверочной выборке"
   ]
  },
  {
   "cell_type": "markdown",
   "metadata": {},
   "source": [
    "### Логистическая регрессия"
   ]
  },
  {
   "cell_type": "code",
   "execution_count": 37,
   "metadata": {},
   "outputs": [
    {
     "name": "stdout",
     "output_type": "stream",
     "text": [
      "Best parameters:  {'C': 110, 'solver': 'liblinear'}\n",
      "Best accuracy:  0.7977430066978105\n"
     ]
    }
   ],
   "source": [
    "model = LogisticRegression(random_state=RSTATE)\n",
    "\n",
    "param = {\n",
    "    'solver': ['liblinear'],\n",
    "    'C': range (10, 500, 10),\n",
    "}\n",
    "\n",
    "\n",
    "gs_logreg = GridSearchCV(model, param, cv=3, scoring='accuracy')\n",
    "gs_logreg.fit(tf_idf_train,y_train)\n",
    "\n",
    "\n",
    "print('Best parameters: ', gs_logreg.best_params_)\n",
    "print('Best accuracy: ', gs_logreg.best_score_)"
   ]
  },
  {
   "cell_type": "markdown",
   "metadata": {},
   "source": [
    "### Решающее дерево"
   ]
  },
  {
   "cell_type": "code",
   "execution_count": 38,
   "metadata": {},
   "outputs": [
    {
     "name": "stdout",
     "output_type": "stream",
     "text": [
      "Best parameters:  {'max_depth': 152, 'splitter': 'random'}\n",
      "Best accuracy:  0.593428516037848\n"
     ]
    }
   ],
   "source": [
    "model = DecisionTreeClassifier(random_state=RSTATE)\n",
    "\n",
    "param = {\n",
    "    'max_depth': range(100,210,1),\n",
    "    'splitter': ['best','random'],\n",
    "}\n",
    "\n",
    "\n",
    "gs_dt = GridSearchCV(model, param, cv=3, scoring='accuracy')\n",
    "gs_dt.fit(tf_idf_train,y_train)\n",
    "\n",
    "\n",
    "print('Best parameters: ', gs_dt.best_params_)\n",
    "print('Best accuracy: ', gs_dt.best_score_)"
   ]
  },
  {
   "cell_type": "markdown",
   "metadata": {},
   "source": [
    "### Случайный лес"
   ]
  },
  {
   "cell_type": "code",
   "execution_count": 39,
   "metadata": {},
   "outputs": [
    {
     "name": "stdout",
     "output_type": "stream",
     "text": [
      "Best parameters:  {'max_depth': 150, 'n_estimators': 131}\n",
      "Best accuracy:  0.7252584379279939\n"
     ]
    }
   ],
   "source": [
    "model = RandomForestClassifier(random_state=RSTATE)\n",
    "\n",
    "param = {\n",
    "    'max_depth': range(100,155,10),\n",
    "    'n_estimators':range(1, 151, 10)\n",
    "}\n",
    "\n",
    "\n",
    "gs_rf = GridSearchCV(model, param, cv=3, scoring='accuracy')\n",
    "gs_rf.fit(tf_idf_train,y_train)\n",
    "\n",
    "\n",
    "print('Best parameters: ', gs_rf.best_params_)\n",
    "print('Best accuracy: ', gs_rf.best_score_)"
   ]
  },
  {
   "cell_type": "markdown",
   "metadata": {},
   "source": [
    "Бустинги с таким набором данных работают невероятно долго, использовать их как основную модель для решения подобной задачи на мой взгляд нерационально, однако существуют варианты рассмотреть их в комбинациях с другими моделями."
   ]
  },
  {
   "cell_type": "markdown",
   "metadata": {},
   "source": [
    "На этом этапе работы с синтезированным датасетом лучше всех показала себя модель линейной регрессии. Проверим ее на тестовой выборке синтезированного датасета, а так же на выборке для проверки от заказчика"
   ]
  },
  {
   "cell_type": "markdown",
   "metadata": {},
   "source": [
    "### Линейная - синтезированный датасет - тестовая выборка"
   ]
  },
  {
   "cell_type": "code",
   "execution_count": 40,
   "metadata": {},
   "outputs": [
    {
     "name": "stdout",
     "output_type": "stream",
     "text": [
      "acc 0.7673469387755102\n"
     ]
    }
   ],
   "source": [
    "model = LogisticRegression(solver='liblinear', penalty='l2', C=20, random_state=RSTATE, class_weight = 'balanced')\n",
    "model.fit(tf_idf_train,y_train)\n",
    "\n",
    "pred = model.predict(tf_idf_test)\n",
    "print('acc',accuracy_score(pred,y_test))"
   ]
  },
  {
   "cell_type": "markdown",
   "metadata": {},
   "source": [
    "### Линейная - проверяющий датасет"
   ]
  },
  {
   "cell_type": "code",
   "execution_count": 41,
   "metadata": {},
   "outputs": [
    {
     "name": "stdout",
     "output_type": "stream",
     "text": [
      "acc 0.7675977653631285\n"
     ]
    }
   ],
   "source": [
    "model = LogisticRegression(solver='liblinear', penalty='l2', C=20, random_state=RSTATE, class_weight = 'balanced')\n",
    "model.fit(tf_idf_train,y_train)\n",
    "\n",
    "pred = model.predict(tf_idf_test_final)\n",
    "print('acc',accuracy_score(pred,y_test_final))"
   ]
  },
  {
   "cell_type": "markdown",
   "metadata": {},
   "source": [
    "Падение метрики обусловлено отличием имеющихся данных от возможных ошибок; модель стала немного хуже определять размеченные данные, но гораздно лучше - данные со случайными ошибками"
   ]
  },
  {
   "cell_type": "markdown",
   "metadata": {},
   "source": [
    "## Расширение тренировочной выборки. BERT sentence embeddings"
   ]
  },
  {
   "cell_type": "markdown",
   "metadata": {},
   "source": [
    "повторим логику создания нового большого датафрейма, с небольшими отличиями в заполнении:\n",
    "\n",
    "для языковой модели LaBSE создадим признаки аугментированных названий, чтобы сравнить их с названиями из эталонного датасета"
   ]
  },
  {
   "cell_type": "code",
   "execution_count": 42,
   "metadata": {},
   "outputs": [],
   "source": [
    "df2 = df[['name','name_orig','school_id']]\n",
    "df3 = df[['name','name_orig','school_id']]\n",
    "df4 = df[['name','name_orig','school_id']]\n",
    "df5 = df[['name','name_orig','school_id']]\n",
    "df6 = df[['name','name_orig','school_id']]\n",
    "df7 = df[['name','name_orig','school_id']]\n",
    "df8 = df[['name','name_orig','school_id']]"
   ]
  },
  {
   "cell_type": "markdown",
   "metadata": {},
   "source": [
    "если будет необходимость отдельно настроить параметры"
   ]
  },
  {
   "cell_type": "code",
   "execution_count": 43,
   "metadata": {},
   "outputs": [],
   "source": [
    "# aug2 = nac.KeyboardAug(lang='uk',aug_char_min=1, aug_char_max=1, aug_char_p=0.1, aug_word_p=0.1)\n",
    "# aug3 = nac.KeyboardAug(lang='uk',aug_char_min=1, aug_char_max=2, aug_char_p=0.2, aug_word_p=0.1)\n",
    "# aug4 = nac.KeyboardAug(lang='uk',aug_char_min=1, aug_char_max=3, aug_char_p=0.3, aug_word_p=0.1)\n",
    "# aug5 = nac.RandomCharAug(action=\"swap\", aug_char_min=1, aug_char_max=1, aug_char_p=0.1, aug_word_p=0.1)\n",
    "# aug6 = nac.RandomCharAug(action=\"swap\", aug_char_min=2, aug_char_max=2, aug_char_p=0.2, aug_word_p=0.2)\n",
    "# aug7 = nac.RandomCharAug(action=\"delete\", aug_char_min=1, aug_char_max=1, aug_char_p=0.1, aug_word_p=0.1)\n",
    "# aug8 = nac.RandomCharAug(action=\"delete\", aug_char_min=2, aug_char_max=2, aug_char_p=0.2, aug_word_p=0.2)"
   ]
  },
  {
   "cell_type": "code",
   "execution_count": 44,
   "metadata": {},
   "outputs": [],
   "source": [
    "df2['name_aug'] = df['name'].apply(lambda x: aug2.augment(x)[0]).apply(to_rus)\n",
    "df3['name_aug'] = df['name'].apply(lambda x: aug3.augment(x)[0]).apply(to_rus)\n",
    "df4['name_aug'] = df['name'].apply(lambda x: aug4.augment(x)[0]).apply(to_rus)\n",
    "df5['name_aug'] = df['name'].apply(lambda x: aug5.augment(x)[0]).apply(to_rus)\n",
    "df6['name_aug'] = df['name'].apply(lambda x: aug6.augment(x)[0]).apply(to_rus)\n",
    "df7['name_aug'] = df['name'].apply(lambda x: aug7.augment(x)[0]).apply(to_rus)\n",
    "df8['name_aug'] = df['name'].apply(lambda x: aug8.augment(x)[0]).apply(to_rus)"
   ]
  },
  {
   "cell_type": "markdown",
   "metadata": {},
   "source": [
    "создадим большой датасет со всеми видами ошибок и разными вероятностями их появления"
   ]
  },
  {
   "cell_type": "code",
   "execution_count": 45,
   "metadata": {},
   "outputs": [],
   "source": [
    "# df_big = pd.concat([df2, df5, df7], ignore_index=True)\n",
    "# df_big = pd.concat([df2, df3, df5, df7], ignore_index=True)\n",
    "df_big = pd.concat([df2,df3, df4, df5,df6, df7, df8], ignore_index=True)"
   ]
  },
  {
   "cell_type": "code",
   "execution_count": 46,
   "metadata": {},
   "outputs": [
    {
     "data": {
      "text/html": [
       "<div>\n",
       "<style scoped>\n",
       "    .dataframe tbody tr th:only-of-type {\n",
       "        vertical-align: middle;\n",
       "    }\n",
       "\n",
       "    .dataframe tbody tr th {\n",
       "        vertical-align: top;\n",
       "    }\n",
       "\n",
       "    .dataframe thead th {\n",
       "        text-align: right;\n",
       "    }\n",
       "</style>\n",
       "<table border=\"1\" class=\"dataframe\">\n",
       "  <thead>\n",
       "    <tr style=\"text-align: right;\">\n",
       "      <th></th>\n",
       "      <th>name</th>\n",
       "      <th>name_orig</th>\n",
       "      <th>school_id</th>\n",
       "      <th>name_aug</th>\n",
       "    </tr>\n",
       "  </thead>\n",
       "  <tbody>\n",
       "    <tr>\n",
       "      <th>0</th>\n",
       "      <td>Московская область Авангард</td>\n",
       "      <td>Московская область Авангард</td>\n",
       "      <td>1</td>\n",
       "      <td>Москлвская область Авангард</td>\n",
       "    </tr>\n",
       "    <tr>\n",
       "      <th>1</th>\n",
       "      <td>Ямало-Ненецкий АО Авангард</td>\n",
       "      <td>Ямало-Ненецкий АО Авангард</td>\n",
       "      <td>2</td>\n",
       "      <td>фмало - Ненецкий АО Авангард</td>\n",
       "    </tr>\n",
       "    <tr>\n",
       "      <th>2</th>\n",
       "      <td>Республика Татарстан Авиатор</td>\n",
       "      <td>Республика Татарстан Авиатор</td>\n",
       "      <td>3</td>\n",
       "      <td>Республика Татарытан Авиатор</td>\n",
       "    </tr>\n",
       "    <tr>\n",
       "      <th>3</th>\n",
       "      <td>Санкт-Петербург Аврора</td>\n",
       "      <td>Санкт-Петербург Аврора</td>\n",
       "      <td>4</td>\n",
       "      <td>Санкт - Петербург Асрора</td>\n",
       "    </tr>\n",
       "    <tr>\n",
       "      <th>4</th>\n",
       "      <td>Санкт-Петербург Ice Dream / Айс Дрим</td>\n",
       "      <td>Санкт-Петербург Ice Dream / Айс Дрим</td>\n",
       "      <td>5</td>\n",
       "      <td>Санкт - Ретербург ыce Dream / Айс Дрим</td>\n",
       "    </tr>\n",
       "  </tbody>\n",
       "</table>\n",
       "</div>"
      ],
      "text/plain": [
       "                                   name                             name_orig  \\\n",
       "0           Московская область Авангард           Московская область Авангард   \n",
       "1            Ямало-Ненецкий АО Авангард            Ямало-Ненецкий АО Авангард   \n",
       "2          Республика Татарстан Авиатор          Республика Татарстан Авиатор   \n",
       "3                Санкт-Петербург Аврора                Санкт-Петербург Аврора   \n",
       "4  Санкт-Петербург Ice Dream / Айс Дрим  Санкт-Петербург Ice Dream / Айс Дрим   \n",
       "\n",
       "   school_id                                name_aug  \n",
       "0          1             Москлвская область Авангард  \n",
       "1          2            фмало - Ненецкий АО Авангард  \n",
       "2          3            Республика Татарытан Авиатор  \n",
       "3          4                Санкт - Петербург Асрора  \n",
       "4          5  Санкт - Ретербург ыce Dream / Айс Дрим  "
      ]
     },
     "execution_count": 46,
     "metadata": {},
     "output_type": "execute_result"
    }
   ],
   "source": [
    "df_big.head()"
   ]
  },
  {
   "cell_type": "markdown",
   "metadata": {},
   "source": [
    "стандартизируем вид аугментированной и оригинальной колонки имен: избавимся от лишней пунктуации пунктуации"
   ]
  },
  {
   "cell_type": "code",
   "execution_count": 47,
   "metadata": {},
   "outputs": [],
   "source": [
    "df_big['name'] = df_big['name'].apply(clear_text)"
   ]
  },
  {
   "cell_type": "code",
   "execution_count": 48,
   "metadata": {},
   "outputs": [],
   "source": [
    "df_big['name_aug'] = df_big['name_aug'].apply(clear_text)"
   ]
  },
  {
   "cell_type": "code",
   "execution_count": 49,
   "metadata": {},
   "outputs": [
    {
     "data": {
      "text/html": [
       "<div>\n",
       "<style scoped>\n",
       "    .dataframe tbody tr th:only-of-type {\n",
       "        vertical-align: middle;\n",
       "    }\n",
       "\n",
       "    .dataframe tbody tr th {\n",
       "        vertical-align: top;\n",
       "    }\n",
       "\n",
       "    .dataframe thead th {\n",
       "        text-align: right;\n",
       "    }\n",
       "</style>\n",
       "<table border=\"1\" class=\"dataframe\">\n",
       "  <thead>\n",
       "    <tr style=\"text-align: right;\">\n",
       "      <th></th>\n",
       "      <th>name</th>\n",
       "      <th>name_orig</th>\n",
       "      <th>school_id</th>\n",
       "      <th>name_aug</th>\n",
       "    </tr>\n",
       "  </thead>\n",
       "  <tbody>\n",
       "    <tr>\n",
       "      <th>0</th>\n",
       "      <td>Московская область Авангард</td>\n",
       "      <td>Московская область Авангард</td>\n",
       "      <td>1</td>\n",
       "      <td>Москлвская область Авангард</td>\n",
       "    </tr>\n",
       "    <tr>\n",
       "      <th>1</th>\n",
       "      <td>Ямало Ненецкий АО Авангард</td>\n",
       "      <td>Ямало-Ненецкий АО Авангард</td>\n",
       "      <td>2</td>\n",
       "      <td>фмало Ненецкий АО Авангард</td>\n",
       "    </tr>\n",
       "    <tr>\n",
       "      <th>2</th>\n",
       "      <td>Республика Татарстан Авиатор</td>\n",
       "      <td>Республика Татарстан Авиатор</td>\n",
       "      <td>3</td>\n",
       "      <td>Республика Татарытан Авиатор</td>\n",
       "    </tr>\n",
       "    <tr>\n",
       "      <th>3</th>\n",
       "      <td>Санкт Петербург Аврора</td>\n",
       "      <td>Санкт-Петербург Аврора</td>\n",
       "      <td>4</td>\n",
       "      <td>Санкт Петербург Асрора</td>\n",
       "    </tr>\n",
       "    <tr>\n",
       "      <th>4</th>\n",
       "      <td>Санкт Петербург Ice Dream Айс Дрим</td>\n",
       "      <td>Санкт-Петербург Ice Dream / Айс Дрим</td>\n",
       "      <td>5</td>\n",
       "      <td>Санкт Ретербург ыce Dream Айс Дрим</td>\n",
       "    </tr>\n",
       "  </tbody>\n",
       "</table>\n",
       "</div>"
      ],
      "text/plain": [
       "                                 name                             name_orig  \\\n",
       "0         Московская область Авангард           Московская область Авангард   \n",
       "1          Ямало Ненецкий АО Авангард            Ямало-Ненецкий АО Авангард   \n",
       "2        Республика Татарстан Авиатор          Республика Татарстан Авиатор   \n",
       "3              Санкт Петербург Аврора                Санкт-Петербург Аврора   \n",
       "4  Санкт Петербург Ice Dream Айс Дрим  Санкт-Петербург Ice Dream / Айс Дрим   \n",
       "\n",
       "   school_id                            name_aug  \n",
       "0          1         Москлвская область Авангард  \n",
       "1          2          фмало Ненецкий АО Авангард  \n",
       "2          3        Республика Татарытан Авиатор  \n",
       "3          4              Санкт Петербург Асрора  \n",
       "4          5  Санкт Ретербург ыce Dream Айс Дрим  "
      ]
     },
     "execution_count": 49,
     "metadata": {},
     "output_type": "execute_result"
    }
   ],
   "source": [
    "df_big.head()"
   ]
  },
  {
   "cell_type": "markdown",
   "metadata": {},
   "source": [
    "разделим получившийся датасет на две части:\n",
    "\n",
    "* создадим модель обучив на небольшой выборке\n",
    "* дообучим на оставшейся части\n",
    "* сравним результаты до и после дообучения\n",
    "* сравним результаты с моделью обученном сразу на полном датасете"
   ]
  },
  {
   "cell_type": "code",
   "execution_count": 50,
   "metadata": {},
   "outputs": [],
   "source": [
    "big_train, min_train = train_test_split(df_big, test_size=0.2, random_state=RSTATE)"
   ]
  },
  {
   "cell_type": "markdown",
   "metadata": {},
   "source": [
    "### sentence-transformers/LaBSE"
   ]
  },
  {
   "cell_type": "code",
   "execution_count": 51,
   "metadata": {},
   "outputs": [],
   "source": [
    "model = SentenceTransformer('sentence-transformers/LaBSE')"
   ]
  },
  {
   "cell_type": "code",
   "execution_count": 52,
   "metadata": {},
   "outputs": [],
   "source": [
    "corpus = model.encode(df['name'].values)\n",
    "query = model.encode(min_train['name_aug'].values)"
   ]
  },
  {
   "cell_type": "code",
   "execution_count": 53,
   "metadata": {},
   "outputs": [],
   "source": [
    "search_result = semantic_search(query,corpus, top_k=5)"
   ]
  },
  {
   "cell_type": "code",
   "execution_count": 54,
   "metadata": {},
   "outputs": [],
   "source": [
    "min_train['candidate_indxs'] = [[x['corpus_id'] for x in row] for row in search_result]"
   ]
  },
  {
   "cell_type": "code",
   "execution_count": 56,
   "metadata": {},
   "outputs": [],
   "source": [
    "min_train['candidate_names'] = min_train['candidate_indxs'].transform(lambda x: df['name_orig'].values[x])"
   ]
  },
  {
   "cell_type": "code",
   "execution_count": 57,
   "metadata": {},
   "outputs": [],
   "source": [
    "min_train['candidate_school_id'] = min_train['candidate_indxs'].transform(lambda x: df['school_id'].values[x])"
   ]
  },
  {
   "cell_type": "code",
   "execution_count": 58,
   "metadata": {},
   "outputs": [
    {
     "data": {
      "text/html": [
       "<div>\n",
       "<style scoped>\n",
       "    .dataframe tbody tr th:only-of-type {\n",
       "        vertical-align: middle;\n",
       "    }\n",
       "\n",
       "    .dataframe tbody tr th {\n",
       "        vertical-align: top;\n",
       "    }\n",
       "\n",
       "    .dataframe thead th {\n",
       "        text-align: right;\n",
       "    }\n",
       "</style>\n",
       "<table border=\"1\" class=\"dataframe\">\n",
       "  <thead>\n",
       "    <tr style=\"text-align: right;\">\n",
       "      <th></th>\n",
       "      <th>name</th>\n",
       "      <th>name_orig</th>\n",
       "      <th>school_id</th>\n",
       "      <th>name_aug</th>\n",
       "      <th>candidate_indxs</th>\n",
       "      <th>candidate_names</th>\n",
       "      <th>candidate_school_id</th>\n",
       "    </tr>\n",
       "  </thead>\n",
       "  <tbody>\n",
       "    <tr>\n",
       "      <th>895</th>\n",
       "      <td>Санкт Петербург СК ФК Ice Prestige</td>\n",
       "      <td>Санкт-Петербург СК ФК «Ice Prestige»</td>\n",
       "      <td>286</td>\n",
       "      <td>ыанПт Петербург СК ФК ыce Prestыge</td>\n",
       "      <td>[283, 255, 104, 267, 254]</td>\n",
       "      <td>[Санкт-Петербург СК ФК «Ice Prestige», Санкт-П...</td>\n",
       "      <td>[286, 257, 105, 270, 256]</td>\n",
       "    </tr>\n",
       "    <tr>\n",
       "      <th>33</th>\n",
       "      <td>Москва Волкова</td>\n",
       "      <td>Москва Волкова</td>\n",
       "      <td>34</td>\n",
       "      <td>Москва Вллкова</td>\n",
       "      <td>[33, 137, 170, 100, 243]</td>\n",
       "      <td>[Москва Волкова, Москва Прусова, Москва Столиц...</td>\n",
       "      <td>[34, 138, 171, 101, 244]</td>\n",
       "    </tr>\n",
       "    <tr>\n",
       "      <th>436</th>\n",
       "      <td>Санкт Петербург Пируэт</td>\n",
       "      <td>Санкт-Петербург Пируэт</td>\n",
       "      <td>131</td>\n",
       "      <td>Санкт Нетербуег Пируэт</td>\n",
       "      <td>[130, 26, 133, 273, 110]</td>\n",
       "      <td>[Санкт-Петербург Пируэт, Санкт-Петербург Бурев...</td>\n",
       "      <td>[131, 27, 134, 276, 111]</td>\n",
       "    </tr>\n",
       "    <tr>\n",
       "      <th>521</th>\n",
       "      <td>Ростовская область СШОР 6</td>\n",
       "      <td>Ростовская область СШОР № 6</td>\n",
       "      <td>216</td>\n",
       "      <td>Ростовская область СШБР 6</td>\n",
       "      <td>[215, 216, 140, 154, 173]</td>\n",
       "      <td>[Ростовская область СШОР № 6, Рязанская област...</td>\n",
       "      <td>[216, 217, 141, 155, 174]</td>\n",
       "    </tr>\n",
       "    <tr>\n",
       "      <th>1294</th>\n",
       "      <td>Калининградская область КО СШ по ЗВС</td>\n",
       "      <td>Калининградская область КО СШ по ЗВС</td>\n",
       "      <td>71</td>\n",
       "      <td>Каилнинградскяа олбатсь КО СШ по ЗВС</td>\n",
       "      <td>[70, 178, 198, 173, 175]</td>\n",
       "      <td>[Калининградская область КО СШ по ЗВС, Краснод...</td>\n",
       "      <td>[71, 179, 199, 174, 176]</td>\n",
       "    </tr>\n",
       "  </tbody>\n",
       "</table>\n",
       "</div>"
      ],
      "text/plain": [
       "                                      name  \\\n",
       "895     Санкт Петербург СК ФК Ice Prestige   \n",
       "33                          Москва Волкова   \n",
       "436                 Санкт Петербург Пируэт   \n",
       "521              Ростовская область СШОР 6   \n",
       "1294  Калининградская область КО СШ по ЗВС   \n",
       "\n",
       "                                 name_orig  school_id  \\\n",
       "895   Санкт-Петербург СК ФК «Ice Prestige»        286   \n",
       "33                          Москва Волкова         34   \n",
       "436                 Санкт-Петербург Пируэт        131   \n",
       "521            Ростовская область СШОР № 6        216   \n",
       "1294  Калининградская область КО СШ по ЗВС         71   \n",
       "\n",
       "                                  name_aug            candidate_indxs  \\\n",
       "895     ыанПт Петербург СК ФК ыce Prestыge  [283, 255, 104, 267, 254]   \n",
       "33                          Москва Вллкова   [33, 137, 170, 100, 243]   \n",
       "436                 Санкт Нетербуег Пируэт   [130, 26, 133, 273, 110]   \n",
       "521              Ростовская область СШБР 6  [215, 216, 140, 154, 173]   \n",
       "1294  Каилнинградскяа олбатсь КО СШ по ЗВС   [70, 178, 198, 173, 175]   \n",
       "\n",
       "                                        candidate_names  \\\n",
       "895   [Санкт-Петербург СК ФК «Ice Prestige», Санкт-П...   \n",
       "33    [Москва Волкова, Москва Прусова, Москва Столиц...   \n",
       "436   [Санкт-Петербург Пируэт, Санкт-Петербург Бурев...   \n",
       "521   [Ростовская область СШОР № 6, Рязанская област...   \n",
       "1294  [Калининградская область КО СШ по ЗВС, Краснод...   \n",
       "\n",
       "            candidate_school_id  \n",
       "895   [286, 257, 105, 270, 256]  \n",
       "33     [34, 138, 171, 101, 244]  \n",
       "436    [131, 27, 134, 276, 111]  \n",
       "521   [216, 217, 141, 155, 174]  \n",
       "1294   [71, 179, 199, 174, 176]  "
      ]
     },
     "execution_count": 58,
     "metadata": {},
     "output_type": "execute_result"
    }
   ],
   "source": [
    "min_train.head()"
   ]
  },
  {
   "cell_type": "code",
   "execution_count": 59,
   "metadata": {},
   "outputs": [
    {
     "data": {
      "text/html": [
       "<div>\n",
       "<style scoped>\n",
       "    .dataframe tbody tr th:only-of-type {\n",
       "        vertical-align: middle;\n",
       "    }\n",
       "\n",
       "    .dataframe tbody tr th {\n",
       "        vertical-align: top;\n",
       "    }\n",
       "\n",
       "    .dataframe thead th {\n",
       "        text-align: right;\n",
       "    }\n",
       "</style>\n",
       "<table border=\"1\" class=\"dataframe\">\n",
       "  <thead>\n",
       "    <tr style=\"text-align: right;\">\n",
       "      <th></th>\n",
       "      <th>name</th>\n",
       "      <th>name_orig</th>\n",
       "      <th>school_id</th>\n",
       "      <th>name_aug</th>\n",
       "      <th>candidate_indxs</th>\n",
       "      <th>candidate_names</th>\n",
       "      <th>candidate_school_id</th>\n",
       "    </tr>\n",
       "  </thead>\n",
       "  <tbody>\n",
       "    <tr>\n",
       "      <th>895</th>\n",
       "      <td>Санкт Петербург СК ФК Ice Prestige</td>\n",
       "      <td>Санкт-Петербург СК ФК «Ice Prestige»</td>\n",
       "      <td>286</td>\n",
       "      <td>ыанПт Петербург СК ФК ыce Prestыge</td>\n",
       "      <td>[283, 255, 104, 267, 254]</td>\n",
       "      <td>[Санкт-Петербург СК ФК «Ice Prestige», Санкт-П...</td>\n",
       "      <td>[286, 257, 105, 270, 256]</td>\n",
       "    </tr>\n",
       "    <tr>\n",
       "      <th>33</th>\n",
       "      <td>Москва Волкова</td>\n",
       "      <td>Москва Волкова</td>\n",
       "      <td>34</td>\n",
       "      <td>Москва Вллкова</td>\n",
       "      <td>[33, 137, 170, 100, 243]</td>\n",
       "      <td>[Москва Волкова, Москва Прусова, Москва Столиц...</td>\n",
       "      <td>[34, 138, 171, 101, 244]</td>\n",
       "    </tr>\n",
       "  </tbody>\n",
       "</table>\n",
       "</div>"
      ],
      "text/plain": [
       "                                   name                             name_orig  \\\n",
       "895  Санкт Петербург СК ФК Ice Prestige  Санкт-Петербург СК ФК «Ice Prestige»   \n",
       "33                       Москва Волкова                        Москва Волкова   \n",
       "\n",
       "     school_id                            name_aug            candidate_indxs  \\\n",
       "895        286  ыанПт Петербург СК ФК ыce Prestыge  [283, 255, 104, 267, 254]   \n",
       "33          34                      Москва Вллкова   [33, 137, 170, 100, 243]   \n",
       "\n",
       "                                       candidate_names  \\\n",
       "895  [Санкт-Петербург СК ФК «Ice Prestige», Санкт-П...   \n",
       "33   [Москва Волкова, Москва Прусова, Москва Столиц...   \n",
       "\n",
       "           candidate_school_id  \n",
       "895  [286, 257, 105, 270, 256]  \n",
       "33    [34, 138, 171, 101, 244]  "
      ]
     },
     "execution_count": 59,
     "metadata": {},
     "output_type": "execute_result"
    }
   ],
   "source": [
    "min_train.head(2)"
   ]
  },
  {
   "cell_type": "code",
   "execution_count": 60,
   "metadata": {},
   "outputs": [],
   "source": [
    "min_train['top1'] = min_train.apply(lambda x: x['school_id'] == x['candidate_school_id'][0], axis=1)\n",
    "min_train['top5'] = min_train.apply(lambda x: x['school_id'] in x['candidate_school_id'], axis=1)"
   ]
  },
  {
   "cell_type": "code",
   "execution_count": 61,
   "metadata": {},
   "outputs": [
    {
     "data": {
      "text/html": [
       "<div>\n",
       "<style scoped>\n",
       "    .dataframe tbody tr th:only-of-type {\n",
       "        vertical-align: middle;\n",
       "    }\n",
       "\n",
       "    .dataframe tbody tr th {\n",
       "        vertical-align: top;\n",
       "    }\n",
       "\n",
       "    .dataframe thead th {\n",
       "        text-align: right;\n",
       "    }\n",
       "</style>\n",
       "<table border=\"1\" class=\"dataframe\">\n",
       "  <thead>\n",
       "    <tr style=\"text-align: right;\">\n",
       "      <th></th>\n",
       "      <th>name</th>\n",
       "      <th>name_orig</th>\n",
       "      <th>school_id</th>\n",
       "      <th>name_aug</th>\n",
       "      <th>candidate_indxs</th>\n",
       "      <th>candidate_names</th>\n",
       "      <th>candidate_school_id</th>\n",
       "      <th>top1</th>\n",
       "      <th>top5</th>\n",
       "    </tr>\n",
       "  </thead>\n",
       "  <tbody>\n",
       "    <tr>\n",
       "      <th>895</th>\n",
       "      <td>Санкт Петербург СК ФК Ice Prestige</td>\n",
       "      <td>Санкт-Петербург СК ФК «Ice Prestige»</td>\n",
       "      <td>286</td>\n",
       "      <td>ыанПт Петербург СК ФК ыce Prestыge</td>\n",
       "      <td>[283, 255, 104, 267, 254]</td>\n",
       "      <td>[Санкт-Петербург СК ФК «Ice Prestige», Санкт-П...</td>\n",
       "      <td>[286, 257, 105, 270, 256]</td>\n",
       "      <td>True</td>\n",
       "      <td>True</td>\n",
       "    </tr>\n",
       "    <tr>\n",
       "      <th>33</th>\n",
       "      <td>Москва Волкова</td>\n",
       "      <td>Москва Волкова</td>\n",
       "      <td>34</td>\n",
       "      <td>Москва Вллкова</td>\n",
       "      <td>[33, 137, 170, 100, 243]</td>\n",
       "      <td>[Москва Волкова, Москва Прусова, Москва Столиц...</td>\n",
       "      <td>[34, 138, 171, 101, 244]</td>\n",
       "      <td>True</td>\n",
       "      <td>True</td>\n",
       "    </tr>\n",
       "  </tbody>\n",
       "</table>\n",
       "</div>"
      ],
      "text/plain": [
       "                                   name                             name_orig  \\\n",
       "895  Санкт Петербург СК ФК Ice Prestige  Санкт-Петербург СК ФК «Ice Prestige»   \n",
       "33                       Москва Волкова                        Москва Волкова   \n",
       "\n",
       "     school_id                            name_aug            candidate_indxs  \\\n",
       "895        286  ыанПт Петербург СК ФК ыce Prestыge  [283, 255, 104, 267, 254]   \n",
       "33          34                      Москва Вллкова   [33, 137, 170, 100, 243]   \n",
       "\n",
       "                                       candidate_names  \\\n",
       "895  [Санкт-Петербург СК ФК «Ice Prestige», Санкт-П...   \n",
       "33   [Москва Волкова, Москва Прусова, Москва Столиц...   \n",
       "\n",
       "           candidate_school_id  top1  top5  \n",
       "895  [286, 257, 105, 270, 256]  True  True  \n",
       "33    [34, 138, 171, 101, 244]  True  True  "
      ]
     },
     "execution_count": 61,
     "metadata": {},
     "output_type": "execute_result"
    }
   ],
   "source": [
    "min_train.head(2)"
   ]
  },
  {
   "cell_type": "code",
   "execution_count": 62,
   "metadata": {},
   "outputs": [
    {
     "data": {
      "text/plain": [
       "0.19327731092436976"
      ]
     },
     "execution_count": 62,
     "metadata": {},
     "output_type": "execute_result"
    }
   ],
   "source": [
    "min_train['top1'].sum() / df_big.shape[0]"
   ]
  },
  {
   "cell_type": "code",
   "execution_count": 63,
   "metadata": {},
   "outputs": [
    {
     "data": {
      "text/plain": [
       "0.20028011204481794"
      ]
     },
     "execution_count": 63,
     "metadata": {},
     "output_type": "execute_result"
    }
   ],
   "source": [
    "min_train['top5'].sum() / df_big.shape[0]"
   ]
  },
  {
   "cell_type": "markdown",
   "metadata": {},
   "source": [
    "модель показывает весьма скромные результаты, всего 20% точности определения школы, однако и обучена она всего на 20% моделированного датасета"
   ]
  },
  {
   "cell_type": "markdown",
   "metadata": {},
   "source": [
    "дообучим модель оставшейся частью датасета:"
   ]
  },
  {
   "cell_type": "code",
   "execution_count": 64,
   "metadata": {},
   "outputs": [
    {
     "data": {
      "application/vnd.jupyter.widget-view+json": {
       "model_id": "6b9fa031ae1648a597963e79bfaa34cb",
       "version_major": 2,
       "version_minor": 0
      },
      "text/plain": [
       "  0%|          | 0/216 [00:00<?, ?it/s]"
      ]
     },
     "metadata": {},
     "output_type": "display_data"
    },
    {
     "name": "stdout",
     "output_type": "stream",
     "text": [
      "{'train_runtime': 875.1288, 'train_samples_per_second': 3.915, 'train_steps_per_second': 0.247, 'train_loss': 0.08689246354279695, 'epoch': 2.0}\n"
     ]
    }
   ],
   "source": [
    "make_example = lambda x: InputExample(texts=[x['name'], x['name_aug']])\n",
    "examples = big_train[['name','name_aug']].apply(make_example, axis=1).values\n",
    "train_dataloader = DataLoader(examples, shuffle=True, batch_size=16)\n",
    "train_loss = losses.GISTEmbedLoss(model=model, guide=model)\n",
    "# train_loss = losses.MultipleNegativesRankingLoss(model = model)\n",
    "model.fit(train_objectives=[(train_dataloader, train_loss)], epochs=2)"
   ]
  },
  {
   "cell_type": "markdown",
   "metadata": {},
   "source": [
    "### sentence-transformers/LaBSE - проверяющий датасет"
   ]
  },
  {
   "cell_type": "markdown",
   "metadata": {},
   "source": [
    "проверим модель на проверяющем датасете:"
   ]
  },
  {
   "cell_type": "code",
   "execution_count": 65,
   "metadata": {},
   "outputs": [
    {
     "data": {
      "text/plain": [
       "0                                           ООО Триумф\n",
       "1                                     Москва СК Триумф\n",
       "2                                СШОР Надежда Губернии\n",
       "3      Саратовская область ГБУСО СШОР Надежда Губернии\n",
       "4                                          СШ Гвоздика\n",
       "                            ...                       \n",
       "890              Республика Татарстан СШОР ФСО Авиатор\n",
       "891              СШОР ФСО Авиатор Республика Татарстан\n",
       "892       Республика Татарстан МБУ ДО СШОР ФСО Авиатор\n",
       "893                                   ЯНАО СШ Авангард\n",
       "894                     Московская область СШ Авангард\n",
       "Name: name, Length: 895, dtype: object"
      ]
     },
     "execution_count": 65,
     "metadata": {},
     "output_type": "execute_result"
    }
   ],
   "source": [
    "x_test_final"
   ]
  },
  {
   "cell_type": "code",
   "execution_count": 66,
   "metadata": {},
   "outputs": [
    {
     "data": {
      "text/html": [
       "<div>\n",
       "<style scoped>\n",
       "    .dataframe tbody tr th:only-of-type {\n",
       "        vertical-align: middle;\n",
       "    }\n",
       "\n",
       "    .dataframe tbody tr th {\n",
       "        vertical-align: top;\n",
       "    }\n",
       "\n",
       "    .dataframe thead th {\n",
       "        text-align: right;\n",
       "    }\n",
       "</style>\n",
       "<table border=\"1\" class=\"dataframe\">\n",
       "  <thead>\n",
       "    <tr style=\"text-align: right;\">\n",
       "      <th></th>\n",
       "      <th>school_id</th>\n",
       "      <th>name</th>\n",
       "      <th>candidate_indxs</th>\n",
       "      <th>candidate_names</th>\n",
       "      <th>candidate_school_id</th>\n",
       "      <th>top1</th>\n",
       "      <th>top5</th>\n",
       "    </tr>\n",
       "  </thead>\n",
       "  <tbody>\n",
       "    <tr>\n",
       "      <th>0</th>\n",
       "      <td>1836</td>\n",
       "      <td>ООО \"Триумф\"</td>\n",
       "      <td>[305, 224, 299, 286, 134]</td>\n",
       "      <td>[Москва ООО \"Триумф\", Пермский край Триумф, Мо...</td>\n",
       "      <td>[1836, 225, 303, 289, 135]</td>\n",
       "      <td>True</td>\n",
       "      <td>True</td>\n",
       "    </tr>\n",
       "    <tr>\n",
       "      <th>1</th>\n",
       "      <td>1836</td>\n",
       "      <td>Москва, СК \"Триумф\"</td>\n",
       "      <td>[305, 95, 250, 251, 104]</td>\n",
       "      <td>[Москва ООО \"Триумф\", Москва МАФКК, Москва ЦСК...</td>\n",
       "      <td>[1836, 96, 251, 252, 105]</td>\n",
       "      <td>True</td>\n",
       "      <td>True</td>\n",
       "    </tr>\n",
       "    <tr>\n",
       "      <th>2</th>\n",
       "      <td>610</td>\n",
       "      <td>СШОР \"Надежда Губернии</td>\n",
       "      <td>[303, 302, 23, 36, 182]</td>\n",
       "      <td>[Саратовская область СШОР \"Надежда Губернии, У...</td>\n",
       "      <td>[610, 609, 24, 37, 183]</td>\n",
       "      <td>True</td>\n",
       "      <td>True</td>\n",
       "    </tr>\n",
       "    <tr>\n",
       "      <th>3</th>\n",
       "      <td>610</td>\n",
       "      <td>Саратовская область, ГБУСО \"СШОР \"Надежда Губе...</td>\n",
       "      <td>[303, 36, 71, 193, 173]</td>\n",
       "      <td>[Саратовская область СШОР \"Надежда Губернии, Н...</td>\n",
       "      <td>[610, 37, 72, 194, 174]</td>\n",
       "      <td>True</td>\n",
       "      <td>True</td>\n",
       "    </tr>\n",
       "    <tr>\n",
       "      <th>4</th>\n",
       "      <td>609</td>\n",
       "      <td>\"СШ \"Гвоздика\"</td>\n",
       "      <td>[302, 172, 180, 184, 160]</td>\n",
       "      <td>[Удмуртская республика \"СШ \"Гвоздика\", ХМАО-Юг...</td>\n",
       "      <td>[609, 173, 181, 185, 161]</td>\n",
       "      <td>True</td>\n",
       "      <td>True</td>\n",
       "    </tr>\n",
       "  </tbody>\n",
       "</table>\n",
       "</div>"
      ],
      "text/plain": [
       "   school_id                                               name  \\\n",
       "0       1836                                       ООО \"Триумф\"   \n",
       "1       1836                                Москва, СК \"Триумф\"   \n",
       "2        610                             СШОР \"Надежда Губернии   \n",
       "3        610  Саратовская область, ГБУСО \"СШОР \"Надежда Губе...   \n",
       "4        609                                     \"СШ \"Гвоздика\"   \n",
       "\n",
       "             candidate_indxs  \\\n",
       "0  [305, 224, 299, 286, 134]   \n",
       "1   [305, 95, 250, 251, 104]   \n",
       "2    [303, 302, 23, 36, 182]   \n",
       "3    [303, 36, 71, 193, 173]   \n",
       "4  [302, 172, 180, 184, 160]   \n",
       "\n",
       "                                     candidate_names  \\\n",
       "0  [Москва ООО \"Триумф\", Пермский край Триумф, Мо...   \n",
       "1  [Москва ООО \"Триумф\", Москва МАФКК, Москва ЦСК...   \n",
       "2  [Саратовская область СШОР \"Надежда Губернии, У...   \n",
       "3  [Саратовская область СШОР \"Надежда Губернии, Н...   \n",
       "4  [Удмуртская республика \"СШ \"Гвоздика\", ХМАО-Юг...   \n",
       "\n",
       "          candidate_school_id  top1  top5  \n",
       "0  [1836, 225, 303, 289, 135]  True  True  \n",
       "1   [1836, 96, 251, 252, 105]  True  True  \n",
       "2     [610, 609, 24, 37, 183]  True  True  \n",
       "3     [610, 37, 72, 194, 174]  True  True  \n",
       "4   [609, 173, 181, 185, 161]  True  True  "
      ]
     },
     "execution_count": 66,
     "metadata": {},
     "output_type": "execute_result"
    }
   ],
   "source": [
    "query = model.encode(x_test_final.values)\n",
    "search_result = semantic_search(query,corpus, top_k=5)\n",
    "\n",
    "df_for_test['candidate_indxs'] = [[x['corpus_id'] for x in row] for row in search_result]\n",
    "df_for_test['candidate_names'] = df_for_test['candidate_indxs'].transform(lambda x: df['name_orig'].values[x])\n",
    "df_for_test['candidate_school_id'] = df_for_test['candidate_indxs'].transform(lambda x: df['school_id'].values[x])\n",
    "\n",
    "df_for_test['top1'] = df_for_test.apply(lambda x: x['school_id'] == x['candidate_school_id'][0], axis=1)\n",
    "df_for_test['top5'] = df_for_test.apply(lambda x: x['school_id'] in x['candidate_school_id'], axis=1)\n",
    "\n",
    "df_for_test.head()"
   ]
  },
  {
   "cell_type": "code",
   "execution_count": 67,
   "metadata": {},
   "outputs": [
    {
     "data": {
      "text/plain": [
       "0.6983240223463687"
      ]
     },
     "execution_count": 67,
     "metadata": {},
     "output_type": "execute_result"
    }
   ],
   "source": [
    "df_for_test['top1'].sum() / df_for_test.shape[0]"
   ]
  },
  {
   "cell_type": "code",
   "execution_count": 68,
   "metadata": {},
   "outputs": [
    {
     "data": {
      "text/plain": [
       "0.9217877094972067"
      ]
     },
     "execution_count": 68,
     "metadata": {},
     "output_type": "execute_result"
    }
   ],
   "source": [
    "df_for_test['top5'].sum() / df_for_test.shape[0]"
   ]
  },
  {
   "cell_type": "code",
   "execution_count": 69,
   "metadata": {},
   "outputs": [
    {
     "data": {
      "text/html": [
       "<div>\n",
       "<style scoped>\n",
       "    .dataframe tbody tr th:only-of-type {\n",
       "        vertical-align: middle;\n",
       "    }\n",
       "\n",
       "    .dataframe tbody tr th {\n",
       "        vertical-align: top;\n",
       "    }\n",
       "\n",
       "    .dataframe thead th {\n",
       "        text-align: right;\n",
       "    }\n",
       "</style>\n",
       "<table border=\"1\" class=\"dataframe\">\n",
       "  <thead>\n",
       "    <tr style=\"text-align: right;\">\n",
       "      <th></th>\n",
       "      <th>school_id</th>\n",
       "      <th>name</th>\n",
       "      <th>candidate_indxs</th>\n",
       "      <th>candidate_names</th>\n",
       "      <th>candidate_school_id</th>\n",
       "      <th>top1</th>\n",
       "      <th>top5</th>\n",
       "    </tr>\n",
       "  </thead>\n",
       "  <tbody>\n",
       "    <tr>\n",
       "      <th>0</th>\n",
       "      <td>1836</td>\n",
       "      <td>ООО \"Триумф\"</td>\n",
       "      <td>[305, 224, 299, 286, 134]</td>\n",
       "      <td>[Москва ООО \"Триумф\", Пермский край Триумф, Мо...</td>\n",
       "      <td>[1836, 225, 303, 289, 135]</td>\n",
       "      <td>True</td>\n",
       "      <td>True</td>\n",
       "    </tr>\n",
       "    <tr>\n",
       "      <th>1</th>\n",
       "      <td>1836</td>\n",
       "      <td>Москва, СК \"Триумф\"</td>\n",
       "      <td>[305, 95, 250, 251, 104]</td>\n",
       "      <td>[Москва ООО \"Триумф\", Москва МАФКК, Москва ЦСК...</td>\n",
       "      <td>[1836, 96, 251, 252, 105]</td>\n",
       "      <td>True</td>\n",
       "      <td>True</td>\n",
       "    </tr>\n",
       "    <tr>\n",
       "      <th>2</th>\n",
       "      <td>610</td>\n",
       "      <td>СШОР \"Надежда Губернии</td>\n",
       "      <td>[303, 302, 23, 36, 182]</td>\n",
       "      <td>[Саратовская область СШОР \"Надежда Губернии, У...</td>\n",
       "      <td>[610, 609, 24, 37, 183]</td>\n",
       "      <td>True</td>\n",
       "      <td>True</td>\n",
       "    </tr>\n",
       "    <tr>\n",
       "      <th>3</th>\n",
       "      <td>610</td>\n",
       "      <td>Саратовская область, ГБУСО \"СШОР \"Надежда Губе...</td>\n",
       "      <td>[303, 36, 71, 193, 173]</td>\n",
       "      <td>[Саратовская область СШОР \"Надежда Губернии, Н...</td>\n",
       "      <td>[610, 37, 72, 194, 174]</td>\n",
       "      <td>True</td>\n",
       "      <td>True</td>\n",
       "    </tr>\n",
       "    <tr>\n",
       "      <th>4</th>\n",
       "      <td>609</td>\n",
       "      <td>\"СШ \"Гвоздика\"</td>\n",
       "      <td>[302, 172, 180, 184, 160]</td>\n",
       "      <td>[Удмуртская республика \"СШ \"Гвоздика\", ХМАО-Юг...</td>\n",
       "      <td>[609, 173, 181, 185, 161]</td>\n",
       "      <td>True</td>\n",
       "      <td>True</td>\n",
       "    </tr>\n",
       "  </tbody>\n",
       "</table>\n",
       "</div>"
      ],
      "text/plain": [
       "   school_id                                               name  \\\n",
       "0       1836                                       ООО \"Триумф\"   \n",
       "1       1836                                Москва, СК \"Триумф\"   \n",
       "2        610                             СШОР \"Надежда Губернии   \n",
       "3        610  Саратовская область, ГБУСО \"СШОР \"Надежда Губе...   \n",
       "4        609                                     \"СШ \"Гвоздика\"   \n",
       "\n",
       "             candidate_indxs  \\\n",
       "0  [305, 224, 299, 286, 134]   \n",
       "1   [305, 95, 250, 251, 104]   \n",
       "2    [303, 302, 23, 36, 182]   \n",
       "3    [303, 36, 71, 193, 173]   \n",
       "4  [302, 172, 180, 184, 160]   \n",
       "\n",
       "                                     candidate_names  \\\n",
       "0  [Москва ООО \"Триумф\", Пермский край Триумф, Мо...   \n",
       "1  [Москва ООО \"Триумф\", Москва МАФКК, Москва ЦСК...   \n",
       "2  [Саратовская область СШОР \"Надежда Губернии, У...   \n",
       "3  [Саратовская область СШОР \"Надежда Губернии, Н...   \n",
       "4  [Удмуртская республика \"СШ \"Гвоздика\", ХМАО-Юг...   \n",
       "\n",
       "          candidate_school_id  top1  top5  \n",
       "0  [1836, 225, 303, 289, 135]  True  True  \n",
       "1   [1836, 96, 251, 252, 105]  True  True  \n",
       "2     [610, 609, 24, 37, 183]  True  True  \n",
       "3     [610, 37, 72, 194, 174]  True  True  \n",
       "4   [609, 173, 181, 185, 161]  True  True  "
      ]
     },
     "execution_count": 69,
     "metadata": {},
     "output_type": "execute_result"
    }
   ],
   "source": [
    "df_for_test.head()"
   ]
  },
  {
   "cell_type": "markdown",
   "metadata": {},
   "source": [
    "70.39% точности определения индекса школы с первого раза, и 92.29% что он будет в пятерке предполагаемых результатов"
   ]
  },
  {
   "cell_type": "markdown",
   "metadata": {},
   "source": [
    "сравним результаты дообучающейся модели с результатами модели обученной сразу на всем датасете"
   ]
  },
  {
   "cell_type": "code",
   "execution_count": 70,
   "metadata": {},
   "outputs": [
    {
     "data": {
      "text/html": [
       "<div>\n",
       "<style scoped>\n",
       "    .dataframe tbody tr th:only-of-type {\n",
       "        vertical-align: middle;\n",
       "    }\n",
       "\n",
       "    .dataframe tbody tr th {\n",
       "        vertical-align: top;\n",
       "    }\n",
       "\n",
       "    .dataframe thead th {\n",
       "        text-align: right;\n",
       "    }\n",
       "</style>\n",
       "<table border=\"1\" class=\"dataframe\">\n",
       "  <thead>\n",
       "    <tr style=\"text-align: right;\">\n",
       "      <th></th>\n",
       "      <th>name</th>\n",
       "      <th>name_orig</th>\n",
       "      <th>school_id</th>\n",
       "      <th>name_aug</th>\n",
       "    </tr>\n",
       "  </thead>\n",
       "  <tbody>\n",
       "    <tr>\n",
       "      <th>0</th>\n",
       "      <td>Московская область Авангард</td>\n",
       "      <td>Московская область Авангард</td>\n",
       "      <td>1</td>\n",
       "      <td>Москлвская область Авангард</td>\n",
       "    </tr>\n",
       "    <tr>\n",
       "      <th>1</th>\n",
       "      <td>Ямало Ненецкий АО Авангард</td>\n",
       "      <td>Ямало-Ненецкий АО Авангард</td>\n",
       "      <td>2</td>\n",
       "      <td>фмало Ненецкий АО Авангард</td>\n",
       "    </tr>\n",
       "    <tr>\n",
       "      <th>2</th>\n",
       "      <td>Республика Татарстан Авиатор</td>\n",
       "      <td>Республика Татарстан Авиатор</td>\n",
       "      <td>3</td>\n",
       "      <td>Республика Татарытан Авиатор</td>\n",
       "    </tr>\n",
       "    <tr>\n",
       "      <th>3</th>\n",
       "      <td>Санкт Петербург Аврора</td>\n",
       "      <td>Санкт-Петербург Аврора</td>\n",
       "      <td>4</td>\n",
       "      <td>Санкт Петербург Асрора</td>\n",
       "    </tr>\n",
       "    <tr>\n",
       "      <th>4</th>\n",
       "      <td>Санкт Петербург Ice Dream Айс Дрим</td>\n",
       "      <td>Санкт-Петербург Ice Dream / Айс Дрим</td>\n",
       "      <td>5</td>\n",
       "      <td>Санкт Ретербург ыce Dream Айс Дрим</td>\n",
       "    </tr>\n",
       "    <tr>\n",
       "      <th>...</th>\n",
       "      <td>...</td>\n",
       "      <td>...</td>\n",
       "      <td>...</td>\n",
       "      <td>...</td>\n",
       "    </tr>\n",
       "    <tr>\n",
       "      <th>2137</th>\n",
       "      <td>Алтайский край Прогресс</td>\n",
       "      <td>Алтайский край Прогресс</td>\n",
       "      <td>305</td>\n",
       "      <td>лтайски край Прогресс</td>\n",
       "    </tr>\n",
       "    <tr>\n",
       "      <th>2138</th>\n",
       "      <td>Удмуртская республика СШ Гвоздика</td>\n",
       "      <td>Удмуртская республика \"СШ \"Гвоздика\"</td>\n",
       "      <td>609</td>\n",
       "      <td>Ууртская рсублика СШ Гвоздика</td>\n",
       "    </tr>\n",
       "    <tr>\n",
       "      <th>2139</th>\n",
       "      <td>Саратовская область СШОР Надежда Губернии</td>\n",
       "      <td>Саратовская область СШОР \"Надежда Губернии</td>\n",
       "      <td>610</td>\n",
       "      <td>Саатовсая область СШОР Надежда убении</td>\n",
       "    </tr>\n",
       "    <tr>\n",
       "      <th>2140</th>\n",
       "      <td>Пермский край КФК Айсберг</td>\n",
       "      <td>Пермский край КФК «Айсберг»</td>\n",
       "      <td>611</td>\n",
       "      <td>Прмски край КФК Айерг</td>\n",
       "    </tr>\n",
       "    <tr>\n",
       "      <th>2141</th>\n",
       "      <td>Москва ООО Триумф</td>\n",
       "      <td>Москва ООО \"Триумф\"</td>\n",
       "      <td>1836</td>\n",
       "      <td>Мква ООО Триумф</td>\n",
       "    </tr>\n",
       "  </tbody>\n",
       "</table>\n",
       "<p>2142 rows × 4 columns</p>\n",
       "</div>"
      ],
      "text/plain": [
       "                                           name  \\\n",
       "0                   Московская область Авангард   \n",
       "1                    Ямало Ненецкий АО Авангард   \n",
       "2                  Республика Татарстан Авиатор   \n",
       "3                        Санкт Петербург Аврора   \n",
       "4            Санкт Петербург Ice Dream Айс Дрим   \n",
       "...                                         ...   \n",
       "2137                    Алтайский край Прогресс   \n",
       "2138          Удмуртская республика СШ Гвоздика   \n",
       "2139  Саратовская область СШОР Надежда Губернии   \n",
       "2140                  Пермский край КФК Айсберг   \n",
       "2141                          Москва ООО Триумф   \n",
       "\n",
       "                                       name_orig  school_id  \\\n",
       "0                    Московская область Авангард          1   \n",
       "1                     Ямало-Ненецкий АО Авангард          2   \n",
       "2                   Республика Татарстан Авиатор          3   \n",
       "3                         Санкт-Петербург Аврора          4   \n",
       "4           Санкт-Петербург Ice Dream / Айс Дрим          5   \n",
       "...                                          ...        ...   \n",
       "2137                     Алтайский край Прогресс        305   \n",
       "2138        Удмуртская республика \"СШ \"Гвоздика\"        609   \n",
       "2139  Саратовская область СШОР \"Надежда Губернии        610   \n",
       "2140                 Пермский край КФК «Айсберг»        611   \n",
       "2141                         Москва ООО \"Триумф\"       1836   \n",
       "\n",
       "                                   name_aug  \n",
       "0               Москлвская область Авангард  \n",
       "1                фмало Ненецкий АО Авангард  \n",
       "2              Республика Татарытан Авиатор  \n",
       "3                    Санкт Петербург Асрора  \n",
       "4        Санкт Ретербург ыce Dream Айс Дрим  \n",
       "...                                     ...  \n",
       "2137                  лтайски край Прогресс  \n",
       "2138          Ууртская рсублика СШ Гвоздика  \n",
       "2139  Саатовсая область СШОР Надежда убении  \n",
       "2140                  Прмски край КФК Айерг  \n",
       "2141                        Мква ООО Триумф  \n",
       "\n",
       "[2142 rows x 4 columns]"
      ]
     },
     "execution_count": 70,
     "metadata": {},
     "output_type": "execute_result"
    }
   ],
   "source": [
    "df_big"
   ]
  },
  {
   "cell_type": "code",
   "execution_count": 71,
   "metadata": {},
   "outputs": [],
   "source": [
    "df_for_test2 = pd.read_csv('C:\\\\Users\\\\Freo\\\\Desktop\\\\kaggle\\\\protect\\\\Примерное написание.csv')"
   ]
  },
  {
   "cell_type": "code",
   "execution_count": 72,
   "metadata": {},
   "outputs": [
    {
     "data": {
      "text/html": [
       "<div>\n",
       "<style scoped>\n",
       "    .dataframe tbody tr th:only-of-type {\n",
       "        vertical-align: middle;\n",
       "    }\n",
       "\n",
       "    .dataframe tbody tr th {\n",
       "        vertical-align: top;\n",
       "    }\n",
       "\n",
       "    .dataframe thead th {\n",
       "        text-align: right;\n",
       "    }\n",
       "</style>\n",
       "<table border=\"1\" class=\"dataframe\">\n",
       "  <thead>\n",
       "    <tr style=\"text-align: right;\">\n",
       "      <th></th>\n",
       "      <th>school_id</th>\n",
       "      <th>name</th>\n",
       "    </tr>\n",
       "  </thead>\n",
       "  <tbody>\n",
       "    <tr>\n",
       "      <th>0</th>\n",
       "      <td>1836</td>\n",
       "      <td>ООО \"Триумф\"</td>\n",
       "    </tr>\n",
       "    <tr>\n",
       "      <th>1</th>\n",
       "      <td>1836</td>\n",
       "      <td>Москва, СК \"Триумф\"</td>\n",
       "    </tr>\n",
       "    <tr>\n",
       "      <th>2</th>\n",
       "      <td>610</td>\n",
       "      <td>СШОР \"Надежда Губернии</td>\n",
       "    </tr>\n",
       "    <tr>\n",
       "      <th>3</th>\n",
       "      <td>610</td>\n",
       "      <td>Саратовская область, ГБУСО \"СШОР \"Надежда Губе...</td>\n",
       "    </tr>\n",
       "    <tr>\n",
       "      <th>4</th>\n",
       "      <td>609</td>\n",
       "      <td>\"СШ \"Гвоздика\"</td>\n",
       "    </tr>\n",
       "    <tr>\n",
       "      <th>...</th>\n",
       "      <td>...</td>\n",
       "      <td>...</td>\n",
       "    </tr>\n",
       "    <tr>\n",
       "      <th>890</th>\n",
       "      <td>3</td>\n",
       "      <td>Республика Татарстан, СШОР ФСО Авиатор</td>\n",
       "    </tr>\n",
       "    <tr>\n",
       "      <th>891</th>\n",
       "      <td>3</td>\n",
       "      <td>СШОР ФСО Авиатор, Республика Татарстан</td>\n",
       "    </tr>\n",
       "    <tr>\n",
       "      <th>892</th>\n",
       "      <td>3</td>\n",
       "      <td>Республика Татарстан, МБУ ДО СШОР «ФСО \"Авиатор\"»</td>\n",
       "    </tr>\n",
       "    <tr>\n",
       "      <th>893</th>\n",
       "      <td>2</td>\n",
       "      <td>ЯНАО, СШ \"Авангард\"</td>\n",
       "    </tr>\n",
       "    <tr>\n",
       "      <th>894</th>\n",
       "      <td>1</td>\n",
       "      <td>Московская область, СШ \"Авангард\"</td>\n",
       "    </tr>\n",
       "  </tbody>\n",
       "</table>\n",
       "<p>895 rows × 2 columns</p>\n",
       "</div>"
      ],
      "text/plain": [
       "     school_id                                               name\n",
       "0         1836                                       ООО \"Триумф\"\n",
       "1         1836                                Москва, СК \"Триумф\"\n",
       "2          610                             СШОР \"Надежда Губернии\n",
       "3          610  Саратовская область, ГБУСО \"СШОР \"Надежда Губе...\n",
       "4          609                                     \"СШ \"Гвоздика\"\n",
       "..         ...                                                ...\n",
       "890          3             Республика Татарстан, СШОР ФСО Авиатор\n",
       "891          3             СШОР ФСО Авиатор, Республика Татарстан\n",
       "892          3  Республика Татарстан, МБУ ДО СШОР «ФСО \"Авиатор\"»\n",
       "893          2                                ЯНАО, СШ \"Авангард\"\n",
       "894          1                  Московская область, СШ \"Авангард\"\n",
       "\n",
       "[895 rows x 2 columns]"
      ]
     },
     "execution_count": 72,
     "metadata": {},
     "output_type": "execute_result"
    }
   ],
   "source": [
    "df_for_test2"
   ]
  },
  {
   "cell_type": "code",
   "execution_count": 73,
   "metadata": {},
   "outputs": [],
   "source": [
    "model_alt = SentenceTransformer('sentence-transformers/LaBSE')\n",
    "\n",
    "corpus = model_alt.encode(df['name'].values)\n",
    "query = model_alt.encode(x_test_final.values)\n",
    "search_result = semantic_search(query,corpus, top_k=5)\n",
    "\n",
    "df_for_test2['candidate_indxs'] = [[x['corpus_id'] for x in row] for row in search_result]\n",
    "df_for_test2['candidate_names'] = df_for_test2['candidate_indxs'].transform(lambda x: df['name_orig'].values[x])\n",
    "df_for_test2['candidate_school_id'] = df_for_test2['candidate_indxs'].transform(lambda x: df['school_id'].values[x])\n",
    "df_for_test2['top1'] = df_for_test2.apply(lambda x: x['school_id'] == x['candidate_school_id'][0], axis=1)\n",
    "df_for_test2['top5'] = df_for_test2.apply(lambda x: x['school_id'] in x['candidate_school_id'], axis=1)"
   ]
  },
  {
   "cell_type": "code",
   "execution_count": 74,
   "metadata": {},
   "outputs": [
    {
     "data": {
      "text/plain": [
       "0.6960893854748603"
      ]
     },
     "execution_count": 74,
     "metadata": {},
     "output_type": "execute_result"
    }
   ],
   "source": [
    "df_for_test2['top1'].sum() / df_for_test2.shape[0]"
   ]
  },
  {
   "cell_type": "code",
   "execution_count": 75,
   "metadata": {},
   "outputs": [
    {
     "data": {
      "text/plain": [
       "0.9195530726256983"
      ]
     },
     "execution_count": 75,
     "metadata": {},
     "output_type": "execute_result"
    }
   ],
   "source": [
    "df_for_test2['top5'].sum() / df_for_test2.shape[0]"
   ]
  },
  {
   "cell_type": "markdown",
   "metadata": {},
   "source": [
    "Дообученная модель показала лучшие результаты чем обученная с нуля"
   ]
  },
  {
   "cell_type": "markdown",
   "metadata": {},
   "source": [
    "## Выводы и итоги работы"
   ]
  },
  {
   "cell_type": "markdown",
   "metadata": {},
   "source": [
    "В ходе работы были загружены и изучены два датасета с данными, эталонный с правильными заполнениями и случаные примеры.\n",
    "В эталонном датасете имеются небольшие ошибки в названиях, но это не критично, в ходе работы моделируются данные с разными возможными ошибками для его расширения.\n",
    "\n",
    "* проанализирована бейслайн модель на стартовом датасете\n",
    "* было созданно несколько аугментированных обучающих датасетов под разные модели машинного обучения, содержащих в себе типовые ошибки:\n",
    "    * пропущенные буквы\n",
    "    * соседние буквы на клавиатуре (опечатки)\n",
    "    * пары букв меняющихся местами\n",
    "* подготовлена модель sentence-transformers/LaBSE для сопоставления произвольных и эталонных вариантов написания названий\n",
    "* модель дообучена\n",
    "* выполнено тестирование, сравнены результаты иходной и дообученой модели\n",
    "* в процессе работы подробно описан ход выполнения\n",
    "* написаны выводы и рекомендации"
   ]
  },
  {
   "cell_type": "markdown",
   "metadata": {},
   "source": [
    "результаты и метрики:\n",
    "\n",
    "| этап | модель | гиперпараметры | aссuracy предсказания | aссuracy (будет в пятерке)|\n",
    "|----------|----------|----------|----------|----------|\n",
    "| baseline   | линейная регрессия | 'liblinear'  | 0.8413   | -   |\n",
    "| первый моделированный датасет   | линейная регрессия   | 'liblinear', penalty='l2', C=20, random_state=RSTATE, class_weight = 'balanced   | 0.7675   | -   |\n",
    "| второй моделированный датасет   | sentence-transformers/LaBSE   | -   | 0.6960   | 0.9195   |\n",
    "| после обучения на 20% данных   | sentence-transformers/LaBSE   | -   | 0.1932   | 0.2002   |\n",
    "| после дообучения   | sentence-transformers/LaBSE   | -  | 0.6983   | 0.9217   |"
   ]
  },
  {
   "cell_type": "markdown",
   "metadata": {},
   "source": [
    "идеи и улучшения:\n",
    "* выделить отдельными признаками (с удалением из названия) принадлежность к типу \"город\" \"область\" \"республика\" итп в числовые признаки формата аналогичного OHE (1-0)\n",
    "* попробовать решать проблему с обратной стороны - попробовать найти и распарсить базу всех существующих учебных учереждений, и подготовить для них аугемнтированную базу ошибок при заполнении\n",
    "* попробовать увеличить датасет аугментированных ошибок и \"донастроить\" их"
   ]
  }
 ],
 "metadata": {
  "kernelspec": {
   "display_name": "my_venv",
   "language": "python",
   "name": "python3"
  },
  "language_info": {
   "codemirror_mode": {
    "name": "ipython",
    "version": 3
   },
   "file_extension": ".py",
   "mimetype": "text/x-python",
   "name": "python",
   "nbconvert_exporter": "python",
   "pygments_lexer": "ipython3",
   "version": "3.9.12"
  }
 },
 "nbformat": 4,
 "nbformat_minor": 2
}
